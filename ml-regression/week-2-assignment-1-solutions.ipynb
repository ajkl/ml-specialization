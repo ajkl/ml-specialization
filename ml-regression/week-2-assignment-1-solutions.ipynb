{
 "cells": [
  {
   "cell_type": "code",
   "execution_count": 22,
   "metadata": {
    "collapsed": false
   },
   "outputs": [],
   "source": [
    "import pandas as pd\n",
    "import numpy as np\n",
    "import scipy\n",
    "from sklearn import linear_model"
   ]
  },
  {
   "cell_type": "code",
   "execution_count": 3,
   "metadata": {
    "collapsed": true
   },
   "outputs": [],
   "source": [
    "dtype_dict = {'bathrooms':float, 'waterfront':int, 'sqft_above':int, 'sqft_living15':float, 'grade':int, 'yr_renovated':int, 'price':float, 'bedrooms':float, 'zipcode':str, 'long':float, 'sqft_lot15':float, 'sqft_living':float, 'floors':str, 'condition':int, 'lat':float, 'date':str, 'sqft_basement':int, 'yr_built':int, 'id':str, 'sqft_lot':int, 'view':int}\n",
    "train_data = pd.read_csv('kc_house_train_data.csv', dtype=dtype_dict)\n",
    "test_data = pd.read_csv('kc_house_test_data.csv', dtype=dtype_dict)"
   ]
  },
  {
   "cell_type": "code",
   "execution_count": 33,
   "metadata": {
    "collapsed": true
   },
   "outputs": [],
   "source": [
    "train_data['bedrooms_squared'] = train_data['bedrooms'] * train_data['bedrooms']\n",
    "test_data['bedrooms_squared'] = test_data['bedrooms'].apply(lambda x: x**2)\n",
    "train_data['bed_bath_rooms'] = train_data['bedrooms'] * train_data['bathrooms']\n",
    "test_data['bed_bath_rooms'] = test_data['bedrooms'] * test_data['bathrooms']\n",
    "train_data['log_sqft_living'] = np.log(train_data['sqft_living'])\n",
    "test_data['log_sqft_living'] = np.log(test_data['sqft_living'])\n",
    "train_data['lat_plus_long'] = train_data['lat'] + train_data['long']\n",
    "test_data['lat_plus_long'] = test_data['lat'] + test_data['long']"
   ]
  },
  {
   "cell_type": "code",
   "execution_count": 40,
   "metadata": {
    "collapsed": false
   },
   "outputs": [
    {
     "name": "stdout",
     "output_type": "stream",
     "text": [
      "Mean bedrooms_squared : 12.45\n",
      "Mean Bed Bath rooms : 7.50\n",
      "Mean log sqft living : 7.55\n",
      "Mean lat plus logn : -74.65\n"
     ]
    }
   ],
   "source": [
    "print \"Mean bedrooms_squared : %.2f\" % np.mean(test_data['bedrooms_squared'])\n",
    "print \"Mean Bed Bath rooms : %.2f\" % np.mean(test_data['bed_bath_rooms'])\n",
    "print \"Mean log sqft living : %.2f\" % np.mean(test_data['log_sqft_living'])\n",
    "print \"Mean lat plus logn : %.2f\" % np.mean(test_data['lat_plus_long'])"
   ]
  },
  {
   "cell_type": "code",
   "execution_count": 29,
   "metadata": {
    "collapsed": true
   },
   "outputs": [],
   "source": [
    "def train_linear_model(train_data, test_data, features, label):\n",
    "    X_train = train_data[features]\n",
    "    y_train = train_data[label]\n",
    "    X_test = test_data[features]\n",
    "    y_test = test_data[label]\n",
    "    regr = linear_model.LinearRegression()\n",
    "    regr.fit(X_train, y_train)\n",
    "    print('Intercept: \\n', regr.intercept_)\n",
    "    print('Coefficients: \\n', regr.coef_)\n",
    "    print(\"Residual sum of squares on TRAIN: %.2f\"\n",
    "          % np.mean((regr.predict(X_train) - y_train) ** 2))\n",
    "    print(\"Residual sum of squares on TEST: %.2f\"\n",
    "          % np.mean((regr.predict(X_test) - y_test) ** 2))\n",
    "    "
   ]
  },
  {
   "cell_type": "code",
   "execution_count": 30,
   "metadata": {
    "collapsed": false
   },
   "outputs": [
    {
     "name": "stdout",
     "output_type": "stream",
     "text": [
      "('Intercept: \\n', -69075726.792569786)\n",
      "('Coefficients: \\n', array([  3.12258646e+02,  -5.95865332e+04,   1.57067421e+04,\n",
      "         6.58619264e+05,  -3.09374351e+05]))\n",
      "Residual sum of squares on TRAIN: 55676481997.79\n",
      "Residual sum of squares on TEST: 53322409504.73\n"
     ]
    }
   ],
   "source": [
    "label = 'price'\n",
    "model1_feat = ['sqft_living', 'bedrooms', 'bathrooms', 'lat', 'long']\n",
    "train_linear_model(train_data, test_data, model1_feat, label)"
   ]
  },
  {
   "cell_type": "code",
   "execution_count": 31,
   "metadata": {
    "collapsed": false
   },
   "outputs": [
    {
     "name": "stdout",
     "output_type": "stream",
     "text": [
      "('Intercept: \\n', -66867968.871078826)\n",
      "('Coefficients: \\n', array([  3.06610053e+02,  -1.13446368e+05,  -7.14613083e+04,\n",
      "         6.54844630e+05,  -2.94298969e+05,   2.55796520e+04]))\n",
      "Residual sum of squares on TRAIN: 55132284576.28\n",
      "Residual sum of squares on TEST: 52820397960.86\n"
     ]
    }
   ],
   "source": [
    "label = 'price'\n",
    "model2_feat = ['sqft_living', 'bedrooms', 'bathrooms', 'lat', 'long', 'bed_bath_rooms']\n",
    "train_linear_model(train_data, test_data, model2_feat, label)"
   ]
  },
  {
   "cell_type": "code",
   "execution_count": 32,
   "metadata": {
    "collapsed": false
   },
   "outputs": [
    {
     "name": "stdout",
     "output_type": "stream",
     "text": [
      "('Intercept: \\n', -62036084.98609814)\n",
      "('Coefficients: \\n', array([  5.29422820e+02,   3.45142296e+04,   6.70607813e+04,\n",
      "         5.34085611e+05,  -4.06750711e+05,  -4.28525220e+03,\n",
      "        -4.28525220e+03,  -6.78858667e+03,  -5.61831484e+05,\n",
      "         1.27334900e+05]))\n",
      "Residual sum of squares on TRAIN: 51969423323.20\n",
      "Residual sum of squares on TEST: 61299673494.25\n"
     ]
    }
   ],
   "source": [
    "label = 'price'\n",
    "model3_feat = ['sqft_living', 'bedrooms', 'bathrooms', 'lat', 'long', 'bed_bath_rooms', 'bed_bath_rooms', 'bedrooms_squared', 'log_sqft_living', 'lat_plus_long']\n",
    "train_linear_model(train_data, test_data, model3_feat, label)"
   ]
  }
 ],
 "metadata": {
  "kernelspec": {
   "display_name": "Python 2",
   "language": "python",
   "name": "python2"
  },
  "language_info": {
   "codemirror_mode": {
    "name": "ipython",
    "version": 2
   },
   "file_extension": ".py",
   "mimetype": "text/x-python",
   "name": "python",
   "nbconvert_exporter": "python",
   "pygments_lexer": "ipython2",
   "version": "2.7.8"
  }
 },
 "nbformat": 4,
 "nbformat_minor": 0
}
