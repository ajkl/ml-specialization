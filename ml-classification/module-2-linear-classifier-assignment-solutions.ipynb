{
 "cells": [
  {
   "cell_type": "markdown",
   "metadata": {},
   "source": [
    "# Predicting sentiment from product reviews\n",
    "\n",
    "\n",
    "The goal of this first notebook is to explore logistic regression and feature engineering with existing GraphLab functions.\n",
    "\n",
    "In this notebook you will use product review data from Amazon.com to predict whether the sentiments about a product (from its reviews) are positive or negative.\n",
    "\n",
    "* Use SFrames to do some feature engineering\n",
    "* Train a logistic regression model to predict the sentiment of product reviews.\n",
    "* Inspect the weights (coefficients) of a trained logistic regression model.\n",
    "* Make a prediction (both class and probability) of sentiment for a new product review.\n",
    "* Given the logistic regression weights, predictors and ground truth labels, write a function to compute the **accuracy** of the model.\n",
    "* Inspect the coefficients of the logistic regression model and interpret their meanings.\n",
    "* Compare multiple logistic regression models.\n",
    "\n",
    "Let's get started!\n",
    "    \n",
    "## Fire up GraphLab Create"
   ]
  },
  {
   "cell_type": "markdown",
   "metadata": {},
   "source": [
    "Make sure you have the latest version of GraphLab Create."
   ]
  },
  {
   "cell_type": "code",
   "execution_count": 2,
   "metadata": {
    "collapsed": false
   },
   "outputs": [],
   "source": [
    "from __future__ import division\n",
    "import math\n",
    "import string\n",
    "import pandas as pd"
   ]
  },
  {
   "cell_type": "markdown",
   "metadata": {},
   "source": [
    "# Data preperation\n",
    "\n",
    "We will use a dataset consisting of baby product reviews on Amazon.com."
   ]
  },
  {
   "cell_type": "code",
   "execution_count": 5,
   "metadata": {
    "collapsed": false
   },
   "outputs": [],
   "source": [
    "products = pd.read_csv('data/amazon_baby.csv')"
   ]
  },
  {
   "cell_type": "markdown",
   "metadata": {},
   "source": [
    "Now, let us see a preview of what the dataset looks like."
   ]
  },
  {
   "cell_type": "code",
   "execution_count": 6,
   "metadata": {
    "collapsed": false
   },
   "outputs": [
    {
     "data": {
      "text/html": [
       "<div>\n",
       "<table border=\"1\" class=\"dataframe\">\n",
       "  <thead>\n",
       "    <tr style=\"text-align: right;\">\n",
       "      <th></th>\n",
       "      <th>name</th>\n",
       "      <th>review</th>\n",
       "      <th>rating</th>\n",
       "    </tr>\n",
       "  </thead>\n",
       "  <tbody>\n",
       "    <tr>\n",
       "      <th>0</th>\n",
       "      <td>Planetwise Flannel Wipes</td>\n",
       "      <td>These flannel wipes are OK, but in my opinion ...</td>\n",
       "      <td>3</td>\n",
       "    </tr>\n",
       "    <tr>\n",
       "      <th>1</th>\n",
       "      <td>Planetwise Wipe Pouch</td>\n",
       "      <td>it came early and was not disappointed. i love...</td>\n",
       "      <td>5</td>\n",
       "    </tr>\n",
       "    <tr>\n",
       "      <th>2</th>\n",
       "      <td>Annas Dream Full Quilt with 2 Shams</td>\n",
       "      <td>Very soft and comfortable and warmer than it l...</td>\n",
       "      <td>5</td>\n",
       "    </tr>\n",
       "    <tr>\n",
       "      <th>3</th>\n",
       "      <td>Stop Pacifier Sucking without tears with Thumb...</td>\n",
       "      <td>This is a product well worth the purchase.  I ...</td>\n",
       "      <td>5</td>\n",
       "    </tr>\n",
       "    <tr>\n",
       "      <th>4</th>\n",
       "      <td>Stop Pacifier Sucking without tears with Thumb...</td>\n",
       "      <td>All of my kids have cried non-stop when I trie...</td>\n",
       "      <td>5</td>\n",
       "    </tr>\n",
       "    <tr>\n",
       "      <th>5</th>\n",
       "      <td>Stop Pacifier Sucking without tears with Thumb...</td>\n",
       "      <td>When the Binky Fairy came to our house, we did...</td>\n",
       "      <td>5</td>\n",
       "    </tr>\n",
       "    <tr>\n",
       "      <th>6</th>\n",
       "      <td>A Tale of Baby's Days with Peter Rabbit</td>\n",
       "      <td>Lovely book, it's bound tightly so you may not...</td>\n",
       "      <td>4</td>\n",
       "    </tr>\n",
       "    <tr>\n",
       "      <th>7</th>\n",
       "      <td>Baby Tracker&amp;reg; - Daily Childcare Journal, S...</td>\n",
       "      <td>Perfect for new parents. We were able to keep ...</td>\n",
       "      <td>5</td>\n",
       "    </tr>\n",
       "    <tr>\n",
       "      <th>8</th>\n",
       "      <td>Baby Tracker&amp;reg; - Daily Childcare Journal, S...</td>\n",
       "      <td>A friend of mine pinned this product on Pinter...</td>\n",
       "      <td>5</td>\n",
       "    </tr>\n",
       "    <tr>\n",
       "      <th>9</th>\n",
       "      <td>Baby Tracker&amp;reg; - Daily Childcare Journal, S...</td>\n",
       "      <td>This has been an easy way for my nanny to reco...</td>\n",
       "      <td>4</td>\n",
       "    </tr>\n",
       "    <tr>\n",
       "      <th>10</th>\n",
       "      <td>Baby Tracker&amp;reg; - Daily Childcare Journal, S...</td>\n",
       "      <td>I love this journal and our nanny uses it ever...</td>\n",
       "      <td>4</td>\n",
       "    </tr>\n",
       "    <tr>\n",
       "      <th>11</th>\n",
       "      <td>Baby Tracker&amp;reg; - Daily Childcare Journal, S...</td>\n",
       "      <td>This book is perfect!  I'm a first time new mo...</td>\n",
       "      <td>5</td>\n",
       "    </tr>\n",
       "    <tr>\n",
       "      <th>12</th>\n",
       "      <td>Baby Tracker&amp;reg; - Daily Childcare Journal, S...</td>\n",
       "      <td>I originally just gave the nanny a pad of pape...</td>\n",
       "      <td>4</td>\n",
       "    </tr>\n",
       "    <tr>\n",
       "      <th>13</th>\n",
       "      <td>Baby Tracker&amp;reg; - Daily Childcare Journal, S...</td>\n",
       "      <td>I thought keeping a simple handwritten journal...</td>\n",
       "      <td>3</td>\n",
       "    </tr>\n",
       "    <tr>\n",
       "      <th>14</th>\n",
       "      <td>Nature's Lullabies First Year Sticker Calendar</td>\n",
       "      <td>Space for monthly photos, info and a lot of us...</td>\n",
       "      <td>5</td>\n",
       "    </tr>\n",
       "    <tr>\n",
       "      <th>15</th>\n",
       "      <td>Nature's Lullabies First Year Sticker Calendar</td>\n",
       "      <td>I bought this calender for myself for my secon...</td>\n",
       "      <td>4</td>\n",
       "    </tr>\n",
       "    <tr>\n",
       "      <th>16</th>\n",
       "      <td>Nature's Lullabies First Year Sticker Calendar</td>\n",
       "      <td>I love this little calender, you can keep trac...</td>\n",
       "      <td>5</td>\n",
       "    </tr>\n",
       "    <tr>\n",
       "      <th>17</th>\n",
       "      <td>Nature's Lullabies Second Year Sticker Calendar</td>\n",
       "      <td>This was the only calender I could find for th...</td>\n",
       "      <td>5</td>\n",
       "    </tr>\n",
       "    <tr>\n",
       "      <th>18</th>\n",
       "      <td>Nature's Lullabies Second Year Sticker Calendar</td>\n",
       "      <td>I completed a calendar for my son's first year...</td>\n",
       "      <td>4</td>\n",
       "    </tr>\n",
       "    <tr>\n",
       "      <th>19</th>\n",
       "      <td>Nature's Lullabies Second Year Sticker Calendar</td>\n",
       "      <td>We wanted to get something to keep track of ou...</td>\n",
       "      <td>5</td>\n",
       "    </tr>\n",
       "    <tr>\n",
       "      <th>20</th>\n",
       "      <td>Nature's Lullabies Second Year Sticker Calendar</td>\n",
       "      <td>I had a hard time finding a second year calend...</td>\n",
       "      <td>5</td>\n",
       "    </tr>\n",
       "    <tr>\n",
       "      <th>21</th>\n",
       "      <td>Nature's Lullabies Second Year Sticker Calendar</td>\n",
       "      <td>I only purchased a second-year calendar for my...</td>\n",
       "      <td>2</td>\n",
       "    </tr>\n",
       "    <tr>\n",
       "      <th>22</th>\n",
       "      <td>Nature's Lullabies Second Year Sticker Calendar</td>\n",
       "      <td>I LOVE this calendar for recording events of m...</td>\n",
       "      <td>5</td>\n",
       "    </tr>\n",
       "    <tr>\n",
       "      <th>23</th>\n",
       "      <td>Nature's Lullabies Second Year Sticker Calendar</td>\n",
       "      <td>Calendar is exactly as described, but I find t...</td>\n",
       "      <td>3</td>\n",
       "    </tr>\n",
       "    <tr>\n",
       "      <th>24</th>\n",
       "      <td>Nature's Lullabies Second Year Sticker Calendar</td>\n",
       "      <td>Wife loves this calender. Comes with a lot of ...</td>\n",
       "      <td>5</td>\n",
       "    </tr>\n",
       "    <tr>\n",
       "      <th>25</th>\n",
       "      <td>Nature's Lullabies Second Year Sticker Calendar</td>\n",
       "      <td>My daughter had her 1st baby over a year ago. ...</td>\n",
       "      <td>5</td>\n",
       "    </tr>\n",
       "    <tr>\n",
       "      <th>26</th>\n",
       "      <td>Baby's First Journal - Green</td>\n",
       "      <td>Extremely useful! As a new mom, tired and inex...</td>\n",
       "      <td>5</td>\n",
       "    </tr>\n",
       "    <tr>\n",
       "      <th>27</th>\n",
       "      <td>Lamaze Peekaboo, I Love You</td>\n",
       "      <td>My son loves peek a boo at this age of 9 month...</td>\n",
       "      <td>3</td>\n",
       "    </tr>\n",
       "    <tr>\n",
       "      <th>28</th>\n",
       "      <td>Lamaze Peekaboo, I Love You</td>\n",
       "      <td>One of baby's first and favorite books, and it...</td>\n",
       "      <td>4</td>\n",
       "    </tr>\n",
       "    <tr>\n",
       "      <th>29</th>\n",
       "      <td>Lamaze Peekaboo, I Love You</td>\n",
       "      <td>I like how the book has a hook to attach it to...</td>\n",
       "      <td>5</td>\n",
       "    </tr>\n",
       "    <tr>\n",
       "      <th>...</th>\n",
       "      <td>...</td>\n",
       "      <td>...</td>\n",
       "      <td>...</td>\n",
       "    </tr>\n",
       "    <tr>\n",
       "      <th>183501</th>\n",
       "      <td>Maxboost iPhone 5S/5 Case - Protective Snap-on...</td>\n",
       "      <td>I received a free sample from VIPU program for...</td>\n",
       "      <td>5</td>\n",
       "    </tr>\n",
       "    <tr>\n",
       "      <th>183502</th>\n",
       "      <td>Maxboost iPhone 5S/5 Case - Protective Snap-on...</td>\n",
       "      <td>It got here incredibly fast &amp; it is a nice dur...</td>\n",
       "      <td>5</td>\n",
       "    </tr>\n",
       "    <tr>\n",
       "      <th>183503</th>\n",
       "      <td>Maxboost iPhone 5S/5 Case - Protective Snap-on...</td>\n",
       "      <td>I got this case in the mail today, it came on ...</td>\n",
       "      <td>2</td>\n",
       "    </tr>\n",
       "    <tr>\n",
       "      <th>183504</th>\n",
       "      <td>Maxboost iPhone 5S/5 Case - Protective Snap-on...</td>\n",
       "      <td>Free caseLove it... The color was great firm h...</td>\n",
       "      <td>5</td>\n",
       "    </tr>\n",
       "    <tr>\n",
       "      <th>183505</th>\n",
       "      <td>Maxboost iPhone 5S/5 Case - Protective Snap-on...</td>\n",
       "      <td>I received a free sample from VIPU program for...</td>\n",
       "      <td>5</td>\n",
       "    </tr>\n",
       "    <tr>\n",
       "      <th>183506</th>\n",
       "      <td>Maxboost iPhone 5S/5 Case - Protective Snap-on...</td>\n",
       "      <td>This case definitely isn't cheap. It feels ver...</td>\n",
       "      <td>5</td>\n",
       "    </tr>\n",
       "    <tr>\n",
       "      <th>183507</th>\n",
       "      <td>Maxboost iPhone 5S/5 Case - Protective Snap-on...</td>\n",
       "      <td>got this for my wife and she loves it would de...</td>\n",
       "      <td>5</td>\n",
       "    </tr>\n",
       "    <tr>\n",
       "      <th>183508</th>\n",
       "      <td>Maxboost iPhone 5S/5 Case - Protective Snap-on...</td>\n",
       "      <td>love this case. It fit perfectly and the color...</td>\n",
       "      <td>5</td>\n",
       "    </tr>\n",
       "    <tr>\n",
       "      <th>183509</th>\n",
       "      <td>Maxboost iPhone 5S/5 Case - Protective Snap-on...</td>\n",
       "      <td>this case is the greatest very cool and stylis...</td>\n",
       "      <td>5</td>\n",
       "    </tr>\n",
       "    <tr>\n",
       "      <th>183510</th>\n",
       "      <td>Maxboost iPhone 5S/5 Case - Protective Snap-on...</td>\n",
       "      <td>Great fit. Really love how red it is.</td>\n",
       "      <td>5</td>\n",
       "    </tr>\n",
       "    <tr>\n",
       "      <th>183511</th>\n",
       "      <td>Maxboost iPhone 5S/5 Case - Protective Snap-on...</td>\n",
       "      <td>I received a free sample from VIPU program for...</td>\n",
       "      <td>3</td>\n",
       "    </tr>\n",
       "    <tr>\n",
       "      <th>183512</th>\n",
       "      <td>Maxboost iPhone 5S/5 Case - Protective Snap-on...</td>\n",
       "      <td>*I received a free sample from VIPU program fo...</td>\n",
       "      <td>5</td>\n",
       "    </tr>\n",
       "    <tr>\n",
       "      <th>183513</th>\n",
       "      <td>Maxboost iPhone 5S/5 Case - Protective Snap-on...</td>\n",
       "      <td>I was a very surprised by the quality of this ...</td>\n",
       "      <td>5</td>\n",
       "    </tr>\n",
       "    <tr>\n",
       "      <th>183514</th>\n",
       "      <td>Maxboost iPhone 5S/5 Case - Protective Snap-on...</td>\n",
       "      <td>I received a free sample from VIPU program for...</td>\n",
       "      <td>4</td>\n",
       "    </tr>\n",
       "    <tr>\n",
       "      <th>183515</th>\n",
       "      <td>Maxboost iPhone 5S/5 Case - Protective Snap-on...</td>\n",
       "      <td>I love this phone case!  My  iPhone is always ...</td>\n",
       "      <td>5</td>\n",
       "    </tr>\n",
       "    <tr>\n",
       "      <th>183516</th>\n",
       "      <td>BoogieBulb&amp;reg; - The First True Cleanable &amp;am...</td>\n",
       "      <td>I've ordered a ton of &amp;#34;suckers&amp;#34; to try...</td>\n",
       "      <td>3</td>\n",
       "    </tr>\n",
       "    <tr>\n",
       "      <th>183517</th>\n",
       "      <td>Baby Mucus Extractor, Nasal Aspirator From Dr....</td>\n",
       "      <td>I recieved this product free of charge and abs...</td>\n",
       "      <td>5</td>\n",
       "    </tr>\n",
       "    <tr>\n",
       "      <th>183518</th>\n",
       "      <td>Baby Mucus Extractor, Nasal Aspirator From Dr....</td>\n",
       "      <td>The tube is soft and easy to use, and the tip ...</td>\n",
       "      <td>5</td>\n",
       "    </tr>\n",
       "    <tr>\n",
       "      <th>183519</th>\n",
       "      <td>Baby Mucus Extractor, Nasal Aspirator From Dr....</td>\n",
       "      <td>I love this so much. It works way better than ...</td>\n",
       "      <td>5</td>\n",
       "    </tr>\n",
       "    <tr>\n",
       "      <th>183520</th>\n",
       "      <td>Baby Mucus Extractor, Nasal Aspirator From Dr....</td>\n",
       "      <td>The aspirator works well but needs to come wit...</td>\n",
       "      <td>4</td>\n",
       "    </tr>\n",
       "    <tr>\n",
       "      <th>183521</th>\n",
       "      <td>Airline Seat Belt Extender - The Best Extensio...</td>\n",
       "      <td>Up until recently I have hated flying, putting...</td>\n",
       "      <td>5</td>\n",
       "    </tr>\n",
       "    <tr>\n",
       "      <th>183522</th>\n",
       "      <td>Airline Seat Belt Extender - The Best Extensio...</td>\n",
       "      <td>I bought this as a father's day gift for my da...</td>\n",
       "      <td>5</td>\n",
       "    </tr>\n",
       "    <tr>\n",
       "      <th>183523</th>\n",
       "      <td>Squeasy Snacker 6oz Silicone Reusable Food Pou...</td>\n",
       "      <td>I love that these can hold purees OR liquids, ...</td>\n",
       "      <td>5</td>\n",
       "    </tr>\n",
       "    <tr>\n",
       "      <th>183524</th>\n",
       "      <td>Squeasy Snacker 6oz Silicone Reusable Food Pou...</td>\n",
       "      <td>I love this product, it makes my life easier. ...</td>\n",
       "      <td>5</td>\n",
       "    </tr>\n",
       "    <tr>\n",
       "      <th>183525</th>\n",
       "      <td>Squeasy Snacker 6oz Silicone Reusable Food Pou...</td>\n",
       "      <td>This reusable squeeze bottle is the best I hav...</td>\n",
       "      <td>5</td>\n",
       "    </tr>\n",
       "    <tr>\n",
       "      <th>183526</th>\n",
       "      <td>Baby Teething Necklace for Mom Pretty Donut Sh...</td>\n",
       "      <td>Such a great idea! very handy to have and look...</td>\n",
       "      <td>5</td>\n",
       "    </tr>\n",
       "    <tr>\n",
       "      <th>183527</th>\n",
       "      <td>Baby Teething Necklace for Mom Pretty Donut Sh...</td>\n",
       "      <td>This product rocks!  It is a great blend of fu...</td>\n",
       "      <td>5</td>\n",
       "    </tr>\n",
       "    <tr>\n",
       "      <th>183528</th>\n",
       "      <td>Abstract 2 PK Baby / Toddler Training Cup (Pink)</td>\n",
       "      <td>This item looks great and cool for my kids.......</td>\n",
       "      <td>5</td>\n",
       "    </tr>\n",
       "    <tr>\n",
       "      <th>183529</th>\n",
       "      <td>Baby Food Freezer Tray - Bacteria Resistant, B...</td>\n",
       "      <td>I am extremely happy with this product. I have...</td>\n",
       "      <td>5</td>\n",
       "    </tr>\n",
       "    <tr>\n",
       "      <th>183530</th>\n",
       "      <td>Best 2 Pack Baby Car Shade for Kids - Window S...</td>\n",
       "      <td>I love this product very mush . I have bought ...</td>\n",
       "      <td>5</td>\n",
       "    </tr>\n",
       "  </tbody>\n",
       "</table>\n",
       "<p>183531 rows × 3 columns</p>\n",
       "</div>"
      ],
      "text/plain": [
       "                                                     name  \\\n",
       "0                                Planetwise Flannel Wipes   \n",
       "1                                   Planetwise Wipe Pouch   \n",
       "2                     Annas Dream Full Quilt with 2 Shams   \n",
       "3       Stop Pacifier Sucking without tears with Thumb...   \n",
       "4       Stop Pacifier Sucking without tears with Thumb...   \n",
       "5       Stop Pacifier Sucking without tears with Thumb...   \n",
       "6                 A Tale of Baby's Days with Peter Rabbit   \n",
       "7       Baby Tracker&reg; - Daily Childcare Journal, S...   \n",
       "8       Baby Tracker&reg; - Daily Childcare Journal, S...   \n",
       "9       Baby Tracker&reg; - Daily Childcare Journal, S...   \n",
       "10      Baby Tracker&reg; - Daily Childcare Journal, S...   \n",
       "11      Baby Tracker&reg; - Daily Childcare Journal, S...   \n",
       "12      Baby Tracker&reg; - Daily Childcare Journal, S...   \n",
       "13      Baby Tracker&reg; - Daily Childcare Journal, S...   \n",
       "14         Nature's Lullabies First Year Sticker Calendar   \n",
       "15         Nature's Lullabies First Year Sticker Calendar   \n",
       "16         Nature's Lullabies First Year Sticker Calendar   \n",
       "17        Nature's Lullabies Second Year Sticker Calendar   \n",
       "18        Nature's Lullabies Second Year Sticker Calendar   \n",
       "19        Nature's Lullabies Second Year Sticker Calendar   \n",
       "20        Nature's Lullabies Second Year Sticker Calendar   \n",
       "21        Nature's Lullabies Second Year Sticker Calendar   \n",
       "22        Nature's Lullabies Second Year Sticker Calendar   \n",
       "23        Nature's Lullabies Second Year Sticker Calendar   \n",
       "24        Nature's Lullabies Second Year Sticker Calendar   \n",
       "25        Nature's Lullabies Second Year Sticker Calendar   \n",
       "26                           Baby's First Journal - Green   \n",
       "27                            Lamaze Peekaboo, I Love You   \n",
       "28                            Lamaze Peekaboo, I Love You   \n",
       "29                            Lamaze Peekaboo, I Love You   \n",
       "...                                                   ...   \n",
       "183501  Maxboost iPhone 5S/5 Case - Protective Snap-on...   \n",
       "183502  Maxboost iPhone 5S/5 Case - Protective Snap-on...   \n",
       "183503  Maxboost iPhone 5S/5 Case - Protective Snap-on...   \n",
       "183504  Maxboost iPhone 5S/5 Case - Protective Snap-on...   \n",
       "183505  Maxboost iPhone 5S/5 Case - Protective Snap-on...   \n",
       "183506  Maxboost iPhone 5S/5 Case - Protective Snap-on...   \n",
       "183507  Maxboost iPhone 5S/5 Case - Protective Snap-on...   \n",
       "183508  Maxboost iPhone 5S/5 Case - Protective Snap-on...   \n",
       "183509  Maxboost iPhone 5S/5 Case - Protective Snap-on...   \n",
       "183510  Maxboost iPhone 5S/5 Case - Protective Snap-on...   \n",
       "183511  Maxboost iPhone 5S/5 Case - Protective Snap-on...   \n",
       "183512  Maxboost iPhone 5S/5 Case - Protective Snap-on...   \n",
       "183513  Maxboost iPhone 5S/5 Case - Protective Snap-on...   \n",
       "183514  Maxboost iPhone 5S/5 Case - Protective Snap-on...   \n",
       "183515  Maxboost iPhone 5S/5 Case - Protective Snap-on...   \n",
       "183516  BoogieBulb&reg; - The First True Cleanable &am...   \n",
       "183517  Baby Mucus Extractor, Nasal Aspirator From Dr....   \n",
       "183518  Baby Mucus Extractor, Nasal Aspirator From Dr....   \n",
       "183519  Baby Mucus Extractor, Nasal Aspirator From Dr....   \n",
       "183520  Baby Mucus Extractor, Nasal Aspirator From Dr....   \n",
       "183521  Airline Seat Belt Extender - The Best Extensio...   \n",
       "183522  Airline Seat Belt Extender - The Best Extensio...   \n",
       "183523  Squeasy Snacker 6oz Silicone Reusable Food Pou...   \n",
       "183524  Squeasy Snacker 6oz Silicone Reusable Food Pou...   \n",
       "183525  Squeasy Snacker 6oz Silicone Reusable Food Pou...   \n",
       "183526  Baby Teething Necklace for Mom Pretty Donut Sh...   \n",
       "183527  Baby Teething Necklace for Mom Pretty Donut Sh...   \n",
       "183528   Abstract 2 PK Baby / Toddler Training Cup (Pink)   \n",
       "183529  Baby Food Freezer Tray - Bacteria Resistant, B...   \n",
       "183530  Best 2 Pack Baby Car Shade for Kids - Window S...   \n",
       "\n",
       "                                                   review  rating  \n",
       "0       These flannel wipes are OK, but in my opinion ...       3  \n",
       "1       it came early and was not disappointed. i love...       5  \n",
       "2       Very soft and comfortable and warmer than it l...       5  \n",
       "3       This is a product well worth the purchase.  I ...       5  \n",
       "4       All of my kids have cried non-stop when I trie...       5  \n",
       "5       When the Binky Fairy came to our house, we did...       5  \n",
       "6       Lovely book, it's bound tightly so you may not...       4  \n",
       "7       Perfect for new parents. We were able to keep ...       5  \n",
       "8       A friend of mine pinned this product on Pinter...       5  \n",
       "9       This has been an easy way for my nanny to reco...       4  \n",
       "10      I love this journal and our nanny uses it ever...       4  \n",
       "11      This book is perfect!  I'm a first time new mo...       5  \n",
       "12      I originally just gave the nanny a pad of pape...       4  \n",
       "13      I thought keeping a simple handwritten journal...       3  \n",
       "14      Space for monthly photos, info and a lot of us...       5  \n",
       "15      I bought this calender for myself for my secon...       4  \n",
       "16      I love this little calender, you can keep trac...       5  \n",
       "17      This was the only calender I could find for th...       5  \n",
       "18      I completed a calendar for my son's first year...       4  \n",
       "19      We wanted to get something to keep track of ou...       5  \n",
       "20      I had a hard time finding a second year calend...       5  \n",
       "21      I only purchased a second-year calendar for my...       2  \n",
       "22      I LOVE this calendar for recording events of m...       5  \n",
       "23      Calendar is exactly as described, but I find t...       3  \n",
       "24      Wife loves this calender. Comes with a lot of ...       5  \n",
       "25      My daughter had her 1st baby over a year ago. ...       5  \n",
       "26      Extremely useful! As a new mom, tired and inex...       5  \n",
       "27      My son loves peek a boo at this age of 9 month...       3  \n",
       "28      One of baby's first and favorite books, and it...       4  \n",
       "29      I like how the book has a hook to attach it to...       5  \n",
       "...                                                   ...     ...  \n",
       "183501  I received a free sample from VIPU program for...       5  \n",
       "183502  It got here incredibly fast & it is a nice dur...       5  \n",
       "183503  I got this case in the mail today, it came on ...       2  \n",
       "183504  Free caseLove it... The color was great firm h...       5  \n",
       "183505  I received a free sample from VIPU program for...       5  \n",
       "183506  This case definitely isn't cheap. It feels ver...       5  \n",
       "183507  got this for my wife and she loves it would de...       5  \n",
       "183508  love this case. It fit perfectly and the color...       5  \n",
       "183509  this case is the greatest very cool and stylis...       5  \n",
       "183510              Great fit. Really love how red it is.       5  \n",
       "183511  I received a free sample from VIPU program for...       3  \n",
       "183512  *I received a free sample from VIPU program fo...       5  \n",
       "183513  I was a very surprised by the quality of this ...       5  \n",
       "183514  I received a free sample from VIPU program for...       4  \n",
       "183515  I love this phone case!  My  iPhone is always ...       5  \n",
       "183516  I've ordered a ton of &#34;suckers&#34; to try...       3  \n",
       "183517  I recieved this product free of charge and abs...       5  \n",
       "183518  The tube is soft and easy to use, and the tip ...       5  \n",
       "183519  I love this so much. It works way better than ...       5  \n",
       "183520  The aspirator works well but needs to come wit...       4  \n",
       "183521  Up until recently I have hated flying, putting...       5  \n",
       "183522  I bought this as a father's day gift for my da...       5  \n",
       "183523  I love that these can hold purees OR liquids, ...       5  \n",
       "183524  I love this product, it makes my life easier. ...       5  \n",
       "183525  This reusable squeeze bottle is the best I hav...       5  \n",
       "183526  Such a great idea! very handy to have and look...       5  \n",
       "183527  This product rocks!  It is a great blend of fu...       5  \n",
       "183528  This item looks great and cool for my kids.......       5  \n",
       "183529  I am extremely happy with this product. I have...       5  \n",
       "183530  I love this product very mush . I have bought ...       5  \n",
       "\n",
       "[183531 rows x 3 columns]"
      ]
     },
     "execution_count": 6,
     "metadata": {},
     "output_type": "execute_result"
    }
   ],
   "source": [
    "products"
   ]
  },
  {
   "cell_type": "markdown",
   "metadata": {},
   "source": [
    "## Build the word count vector for each review"
   ]
  },
  {
   "cell_type": "markdown",
   "metadata": {},
   "source": [
    "Let us explore a specific example of a baby product.\n"
   ]
  },
  {
   "cell_type": "code",
   "execution_count": 10,
   "metadata": {
    "collapsed": false
   },
   "outputs": [
    {
     "data": {
      "text/plain": [
       "name      The First Years Massaging Action Teether\n",
       "review                    A favorite in our house!\n",
       "rating                                           5\n",
       "Name: 269, dtype: object"
      ]
     },
     "execution_count": 10,
     "metadata": {},
     "output_type": "execute_result"
    }
   ],
   "source": [
    "products.iloc[269]"
   ]
  },
  {
   "cell_type": "markdown",
   "metadata": {},
   "source": [
    "Replace nan with empty strings"
   ]
  },
  {
   "cell_type": "code",
   "execution_count": 16,
   "metadata": {
    "collapsed": true
   },
   "outputs": [],
   "source": [
    "products['review'] = products['review'].fillna('')"
   ]
  },
  {
   "cell_type": "markdown",
   "metadata": {},
   "source": [
    "Now, we will perform 2 simple data transformations:\n",
    "\n",
    "1. Remove punctuation using [Python's built-in](https://docs.python.org/2/library/string.html) string functionality.\n",
    "2. Transform the reviews into word-counts.\n",
    "\n",
    "**Aside**. In this notebook, we remove all punctuations for the sake of simplicity. A smarter approach to punctuations would preserve phrases such as \"I'd\", \"would've\", \"hadn't\" and so forth. See [this page](https://www.cis.upenn.edu/~treebank/tokenization.html) for an example of smart handling of punctuations."
   ]
  },
  {
   "cell_type": "code",
   "execution_count": 19,
   "metadata": {
    "collapsed": false
   },
   "outputs": [],
   "source": [
    "def remove_punctuation(text):\n",
    "    import string\n",
    "    return text.translate(None, string.punctuation) \n",
    "\n",
    "products['review_clean'] = products['review'].apply(remove_punctuation)\n",
    "#products['word_count'] = graphlab.text_analytics.count_words(review_without_puctuation)"
   ]
  },
  {
   "cell_type": "markdown",
   "metadata": {},
   "source": [
    "## Extract sentiments\n",
    "\n",
    "We will **ignore** all reviews with *rating = 3*, since they tend to have a neutral sentiment."
   ]
  },
  {
   "cell_type": "code",
   "execution_count": 21,
   "metadata": {
    "collapsed": false
   },
   "outputs": [
    {
     "data": {
      "text/plain": [
       "166752"
      ]
     },
     "execution_count": 21,
     "metadata": {},
     "output_type": "execute_result"
    }
   ],
   "source": [
    "products = products[products['rating'] != 3]\n",
    "len(products)"
   ]
  },
  {
   "cell_type": "markdown",
   "metadata": {},
   "source": [
    "Now, we will assign reviews with a rating of 4 or higher to be *positive* reviews, while the ones with rating of 2 or lower are *negative*. For the sentiment column, we use +1 for the positive class label and -1 for the negative class label."
   ]
  },
  {
   "cell_type": "code",
   "execution_count": 22,
   "metadata": {
    "collapsed": false
   },
   "outputs": [
    {
     "data": {
      "text/html": [
       "<div>\n",
       "<table border=\"1\" class=\"dataframe\">\n",
       "  <thead>\n",
       "    <tr style=\"text-align: right;\">\n",
       "      <th></th>\n",
       "      <th>name</th>\n",
       "      <th>review</th>\n",
       "      <th>rating</th>\n",
       "      <th>review_clean</th>\n",
       "      <th>sentiment</th>\n",
       "    </tr>\n",
       "  </thead>\n",
       "  <tbody>\n",
       "    <tr>\n",
       "      <th>1</th>\n",
       "      <td>Planetwise Wipe Pouch</td>\n",
       "      <td>it came early and was not disappointed. i love...</td>\n",
       "      <td>5</td>\n",
       "      <td>it came early and was not disappointed i love ...</td>\n",
       "      <td>1</td>\n",
       "    </tr>\n",
       "    <tr>\n",
       "      <th>2</th>\n",
       "      <td>Annas Dream Full Quilt with 2 Shams</td>\n",
       "      <td>Very soft and comfortable and warmer than it l...</td>\n",
       "      <td>5</td>\n",
       "      <td>Very soft and comfortable and warmer than it l...</td>\n",
       "      <td>1</td>\n",
       "    </tr>\n",
       "    <tr>\n",
       "      <th>3</th>\n",
       "      <td>Stop Pacifier Sucking without tears with Thumb...</td>\n",
       "      <td>This is a product well worth the purchase.  I ...</td>\n",
       "      <td>5</td>\n",
       "      <td>This is a product well worth the purchase  I h...</td>\n",
       "      <td>1</td>\n",
       "    </tr>\n",
       "    <tr>\n",
       "      <th>4</th>\n",
       "      <td>Stop Pacifier Sucking without tears with Thumb...</td>\n",
       "      <td>All of my kids have cried non-stop when I trie...</td>\n",
       "      <td>5</td>\n",
       "      <td>All of my kids have cried nonstop when I tried...</td>\n",
       "      <td>1</td>\n",
       "    </tr>\n",
       "    <tr>\n",
       "      <th>5</th>\n",
       "      <td>Stop Pacifier Sucking without tears with Thumb...</td>\n",
       "      <td>When the Binky Fairy came to our house, we did...</td>\n",
       "      <td>5</td>\n",
       "      <td>When the Binky Fairy came to our house we didn...</td>\n",
       "      <td>1</td>\n",
       "    </tr>\n",
       "    <tr>\n",
       "      <th>6</th>\n",
       "      <td>A Tale of Baby's Days with Peter Rabbit</td>\n",
       "      <td>Lovely book, it's bound tightly so you may not...</td>\n",
       "      <td>4</td>\n",
       "      <td>Lovely book its bound tightly so you may not b...</td>\n",
       "      <td>1</td>\n",
       "    </tr>\n",
       "    <tr>\n",
       "      <th>7</th>\n",
       "      <td>Baby Tracker&amp;reg; - Daily Childcare Journal, S...</td>\n",
       "      <td>Perfect for new parents. We were able to keep ...</td>\n",
       "      <td>5</td>\n",
       "      <td>Perfect for new parents We were able to keep t...</td>\n",
       "      <td>1</td>\n",
       "    </tr>\n",
       "    <tr>\n",
       "      <th>8</th>\n",
       "      <td>Baby Tracker&amp;reg; - Daily Childcare Journal, S...</td>\n",
       "      <td>A friend of mine pinned this product on Pinter...</td>\n",
       "      <td>5</td>\n",
       "      <td>A friend of mine pinned this product on Pinter...</td>\n",
       "      <td>1</td>\n",
       "    </tr>\n",
       "    <tr>\n",
       "      <th>9</th>\n",
       "      <td>Baby Tracker&amp;reg; - Daily Childcare Journal, S...</td>\n",
       "      <td>This has been an easy way for my nanny to reco...</td>\n",
       "      <td>4</td>\n",
       "      <td>This has been an easy way for my nanny to reco...</td>\n",
       "      <td>1</td>\n",
       "    </tr>\n",
       "    <tr>\n",
       "      <th>10</th>\n",
       "      <td>Baby Tracker&amp;reg; - Daily Childcare Journal, S...</td>\n",
       "      <td>I love this journal and our nanny uses it ever...</td>\n",
       "      <td>4</td>\n",
       "      <td>I love this journal and our nanny uses it ever...</td>\n",
       "      <td>1</td>\n",
       "    </tr>\n",
       "    <tr>\n",
       "      <th>11</th>\n",
       "      <td>Baby Tracker&amp;reg; - Daily Childcare Journal, S...</td>\n",
       "      <td>This book is perfect!  I'm a first time new mo...</td>\n",
       "      <td>5</td>\n",
       "      <td>This book is perfect  Im a first time new mom ...</td>\n",
       "      <td>1</td>\n",
       "    </tr>\n",
       "    <tr>\n",
       "      <th>12</th>\n",
       "      <td>Baby Tracker&amp;reg; - Daily Childcare Journal, S...</td>\n",
       "      <td>I originally just gave the nanny a pad of pape...</td>\n",
       "      <td>4</td>\n",
       "      <td>I originally just gave the nanny a pad of pape...</td>\n",
       "      <td>1</td>\n",
       "    </tr>\n",
       "    <tr>\n",
       "      <th>14</th>\n",
       "      <td>Nature's Lullabies First Year Sticker Calendar</td>\n",
       "      <td>Space for monthly photos, info and a lot of us...</td>\n",
       "      <td>5</td>\n",
       "      <td>Space for monthly photos info and a lot of use...</td>\n",
       "      <td>1</td>\n",
       "    </tr>\n",
       "    <tr>\n",
       "      <th>15</th>\n",
       "      <td>Nature's Lullabies First Year Sticker Calendar</td>\n",
       "      <td>I bought this calender for myself for my secon...</td>\n",
       "      <td>4</td>\n",
       "      <td>I bought this calender for myself for my secon...</td>\n",
       "      <td>1</td>\n",
       "    </tr>\n",
       "    <tr>\n",
       "      <th>16</th>\n",
       "      <td>Nature's Lullabies First Year Sticker Calendar</td>\n",
       "      <td>I love this little calender, you can keep trac...</td>\n",
       "      <td>5</td>\n",
       "      <td>I love this little calender you can keep track...</td>\n",
       "      <td>1</td>\n",
       "    </tr>\n",
       "    <tr>\n",
       "      <th>17</th>\n",
       "      <td>Nature's Lullabies Second Year Sticker Calendar</td>\n",
       "      <td>This was the only calender I could find for th...</td>\n",
       "      <td>5</td>\n",
       "      <td>This was the only calender I could find for th...</td>\n",
       "      <td>1</td>\n",
       "    </tr>\n",
       "    <tr>\n",
       "      <th>18</th>\n",
       "      <td>Nature's Lullabies Second Year Sticker Calendar</td>\n",
       "      <td>I completed a calendar for my son's first year...</td>\n",
       "      <td>4</td>\n",
       "      <td>I completed a calendar for my sons first year ...</td>\n",
       "      <td>1</td>\n",
       "    </tr>\n",
       "    <tr>\n",
       "      <th>19</th>\n",
       "      <td>Nature's Lullabies Second Year Sticker Calendar</td>\n",
       "      <td>We wanted to get something to keep track of ou...</td>\n",
       "      <td>5</td>\n",
       "      <td>We wanted to get something to keep track of ou...</td>\n",
       "      <td>1</td>\n",
       "    </tr>\n",
       "    <tr>\n",
       "      <th>20</th>\n",
       "      <td>Nature's Lullabies Second Year Sticker Calendar</td>\n",
       "      <td>I had a hard time finding a second year calend...</td>\n",
       "      <td>5</td>\n",
       "      <td>I had a hard time finding a second year calend...</td>\n",
       "      <td>1</td>\n",
       "    </tr>\n",
       "    <tr>\n",
       "      <th>21</th>\n",
       "      <td>Nature's Lullabies Second Year Sticker Calendar</td>\n",
       "      <td>I only purchased a second-year calendar for my...</td>\n",
       "      <td>2</td>\n",
       "      <td>I only purchased a secondyear calendar for my ...</td>\n",
       "      <td>-1</td>\n",
       "    </tr>\n",
       "    <tr>\n",
       "      <th>22</th>\n",
       "      <td>Nature's Lullabies Second Year Sticker Calendar</td>\n",
       "      <td>I LOVE this calendar for recording events of m...</td>\n",
       "      <td>5</td>\n",
       "      <td>I LOVE this calendar for recording events of m...</td>\n",
       "      <td>1</td>\n",
       "    </tr>\n",
       "    <tr>\n",
       "      <th>24</th>\n",
       "      <td>Nature's Lullabies Second Year Sticker Calendar</td>\n",
       "      <td>Wife loves this calender. Comes with a lot of ...</td>\n",
       "      <td>5</td>\n",
       "      <td>Wife loves this calender Comes with a lot of s...</td>\n",
       "      <td>1</td>\n",
       "    </tr>\n",
       "    <tr>\n",
       "      <th>25</th>\n",
       "      <td>Nature's Lullabies Second Year Sticker Calendar</td>\n",
       "      <td>My daughter had her 1st baby over a year ago. ...</td>\n",
       "      <td>5</td>\n",
       "      <td>My daughter had her 1st baby over a year ago S...</td>\n",
       "      <td>1</td>\n",
       "    </tr>\n",
       "    <tr>\n",
       "      <th>26</th>\n",
       "      <td>Baby's First Journal - Green</td>\n",
       "      <td>Extremely useful! As a new mom, tired and inex...</td>\n",
       "      <td>5</td>\n",
       "      <td>Extremely useful As a new mom tired and inexpe...</td>\n",
       "      <td>1</td>\n",
       "    </tr>\n",
       "    <tr>\n",
       "      <th>28</th>\n",
       "      <td>Lamaze Peekaboo, I Love You</td>\n",
       "      <td>One of baby's first and favorite books, and it...</td>\n",
       "      <td>4</td>\n",
       "      <td>One of babys first and favorite books and it i...</td>\n",
       "      <td>1</td>\n",
       "    </tr>\n",
       "    <tr>\n",
       "      <th>29</th>\n",
       "      <td>Lamaze Peekaboo, I Love You</td>\n",
       "      <td>I like how the book has a hook to attach it to...</td>\n",
       "      <td>5</td>\n",
       "      <td>I like how the book has a hook to attach it to...</td>\n",
       "      <td>1</td>\n",
       "    </tr>\n",
       "    <tr>\n",
       "      <th>30</th>\n",
       "      <td>Lamaze Peekaboo, I Love You</td>\n",
       "      <td>Beautiful little book.  A great little short s...</td>\n",
       "      <td>5</td>\n",
       "      <td>Beautiful little book  A great little short st...</td>\n",
       "      <td>1</td>\n",
       "    </tr>\n",
       "    <tr>\n",
       "      <th>31</th>\n",
       "      <td>Lamaze Peekaboo, I Love You</td>\n",
       "      <td>This book is so worth the money. It says 9+ mo...</td>\n",
       "      <td>5</td>\n",
       "      <td>This book is so worth the money It says 9 mont...</td>\n",
       "      <td>1</td>\n",
       "    </tr>\n",
       "    <tr>\n",
       "      <th>32</th>\n",
       "      <td>Lamaze Peekaboo, I Love You</td>\n",
       "      <td>we just got this book for our one-year-old and...</td>\n",
       "      <td>5</td>\n",
       "      <td>we just got this book for our oneyearold and s...</td>\n",
       "      <td>1</td>\n",
       "    </tr>\n",
       "    <tr>\n",
       "      <th>33</th>\n",
       "      <td>Lamaze Peekaboo, I Love You</td>\n",
       "      <td>The book is colorful and is perfect for 6month...</td>\n",
       "      <td>4</td>\n",
       "      <td>The book is colorful and is perfect for 6month...</td>\n",
       "      <td>1</td>\n",
       "    </tr>\n",
       "    <tr>\n",
       "      <th>...</th>\n",
       "      <td>...</td>\n",
       "      <td>...</td>\n",
       "      <td>...</td>\n",
       "      <td>...</td>\n",
       "      <td>...</td>\n",
       "    </tr>\n",
       "    <tr>\n",
       "      <th>183499</th>\n",
       "      <td>Maxboost iPhone 5S/5 Case - Protective Snap-on...</td>\n",
       "      <td>I received a free sample from VIPU program for...</td>\n",
       "      <td>5</td>\n",
       "      <td>I received a free sample from VIPU program for...</td>\n",
       "      <td>1</td>\n",
       "    </tr>\n",
       "    <tr>\n",
       "      <th>183500</th>\n",
       "      <td>Maxboost iPhone 5S/5 Case - Protective Snap-on...</td>\n",
       "      <td>Great product, great company! Their daily give...</td>\n",
       "      <td>5</td>\n",
       "      <td>Great product great company Their daily giveaw...</td>\n",
       "      <td>1</td>\n",
       "    </tr>\n",
       "    <tr>\n",
       "      <th>183501</th>\n",
       "      <td>Maxboost iPhone 5S/5 Case - Protective Snap-on...</td>\n",
       "      <td>I received a free sample from VIPU program for...</td>\n",
       "      <td>5</td>\n",
       "      <td>I received a free sample from VIPU program for...</td>\n",
       "      <td>1</td>\n",
       "    </tr>\n",
       "    <tr>\n",
       "      <th>183502</th>\n",
       "      <td>Maxboost iPhone 5S/5 Case - Protective Snap-on...</td>\n",
       "      <td>It got here incredibly fast &amp; it is a nice dur...</td>\n",
       "      <td>5</td>\n",
       "      <td>It got here incredibly fast  it is a nice dura...</td>\n",
       "      <td>1</td>\n",
       "    </tr>\n",
       "    <tr>\n",
       "      <th>183503</th>\n",
       "      <td>Maxboost iPhone 5S/5 Case - Protective Snap-on...</td>\n",
       "      <td>I got this case in the mail today, it came on ...</td>\n",
       "      <td>2</td>\n",
       "      <td>I got this case in the mail today it came on t...</td>\n",
       "      <td>-1</td>\n",
       "    </tr>\n",
       "    <tr>\n",
       "      <th>183504</th>\n",
       "      <td>Maxboost iPhone 5S/5 Case - Protective Snap-on...</td>\n",
       "      <td>Free caseLove it... The color was great firm h...</td>\n",
       "      <td>5</td>\n",
       "      <td>Free caseLove it The color was great firm hold...</td>\n",
       "      <td>1</td>\n",
       "    </tr>\n",
       "    <tr>\n",
       "      <th>183505</th>\n",
       "      <td>Maxboost iPhone 5S/5 Case - Protective Snap-on...</td>\n",
       "      <td>I received a free sample from VIPU program for...</td>\n",
       "      <td>5</td>\n",
       "      <td>I received a free sample from VIPU program for...</td>\n",
       "      <td>1</td>\n",
       "    </tr>\n",
       "    <tr>\n",
       "      <th>183506</th>\n",
       "      <td>Maxboost iPhone 5S/5 Case - Protective Snap-on...</td>\n",
       "      <td>This case definitely isn't cheap. It feels ver...</td>\n",
       "      <td>5</td>\n",
       "      <td>This case definitely isnt cheap It feels very ...</td>\n",
       "      <td>1</td>\n",
       "    </tr>\n",
       "    <tr>\n",
       "      <th>183507</th>\n",
       "      <td>Maxboost iPhone 5S/5 Case - Protective Snap-on...</td>\n",
       "      <td>got this for my wife and she loves it would de...</td>\n",
       "      <td>5</td>\n",
       "      <td>got this for my wife and she loves it would de...</td>\n",
       "      <td>1</td>\n",
       "    </tr>\n",
       "    <tr>\n",
       "      <th>183508</th>\n",
       "      <td>Maxboost iPhone 5S/5 Case - Protective Snap-on...</td>\n",
       "      <td>love this case. It fit perfectly and the color...</td>\n",
       "      <td>5</td>\n",
       "      <td>love this case It fit perfectly and the color ...</td>\n",
       "      <td>1</td>\n",
       "    </tr>\n",
       "    <tr>\n",
       "      <th>183509</th>\n",
       "      <td>Maxboost iPhone 5S/5 Case - Protective Snap-on...</td>\n",
       "      <td>this case is the greatest very cool and stylis...</td>\n",
       "      <td>5</td>\n",
       "      <td>this case is the greatest very cool and stylis...</td>\n",
       "      <td>1</td>\n",
       "    </tr>\n",
       "    <tr>\n",
       "      <th>183510</th>\n",
       "      <td>Maxboost iPhone 5S/5 Case - Protective Snap-on...</td>\n",
       "      <td>Great fit. Really love how red it is.</td>\n",
       "      <td>5</td>\n",
       "      <td>Great fit Really love how red it is</td>\n",
       "      <td>1</td>\n",
       "    </tr>\n",
       "    <tr>\n",
       "      <th>183512</th>\n",
       "      <td>Maxboost iPhone 5S/5 Case - Protective Snap-on...</td>\n",
       "      <td>*I received a free sample from VIPU program fo...</td>\n",
       "      <td>5</td>\n",
       "      <td>I received a free sample from VIPU program for...</td>\n",
       "      <td>1</td>\n",
       "    </tr>\n",
       "    <tr>\n",
       "      <th>183513</th>\n",
       "      <td>Maxboost iPhone 5S/5 Case - Protective Snap-on...</td>\n",
       "      <td>I was a very surprised by the quality of this ...</td>\n",
       "      <td>5</td>\n",
       "      <td>I was a very surprised by the quality of this ...</td>\n",
       "      <td>1</td>\n",
       "    </tr>\n",
       "    <tr>\n",
       "      <th>183514</th>\n",
       "      <td>Maxboost iPhone 5S/5 Case - Protective Snap-on...</td>\n",
       "      <td>I received a free sample from VIPU program for...</td>\n",
       "      <td>4</td>\n",
       "      <td>I received a free sample from VIPU program for...</td>\n",
       "      <td>1</td>\n",
       "    </tr>\n",
       "    <tr>\n",
       "      <th>183515</th>\n",
       "      <td>Maxboost iPhone 5S/5 Case - Protective Snap-on...</td>\n",
       "      <td>I love this phone case!  My  iPhone is always ...</td>\n",
       "      <td>5</td>\n",
       "      <td>I love this phone case  My  iPhone is always s...</td>\n",
       "      <td>1</td>\n",
       "    </tr>\n",
       "    <tr>\n",
       "      <th>183517</th>\n",
       "      <td>Baby Mucus Extractor, Nasal Aspirator From Dr....</td>\n",
       "      <td>I recieved this product free of charge and abs...</td>\n",
       "      <td>5</td>\n",
       "      <td>I recieved this product free of charge and abs...</td>\n",
       "      <td>1</td>\n",
       "    </tr>\n",
       "    <tr>\n",
       "      <th>183518</th>\n",
       "      <td>Baby Mucus Extractor, Nasal Aspirator From Dr....</td>\n",
       "      <td>The tube is soft and easy to use, and the tip ...</td>\n",
       "      <td>5</td>\n",
       "      <td>The tube is soft and easy to use and the tip i...</td>\n",
       "      <td>1</td>\n",
       "    </tr>\n",
       "    <tr>\n",
       "      <th>183519</th>\n",
       "      <td>Baby Mucus Extractor, Nasal Aspirator From Dr....</td>\n",
       "      <td>I love this so much. It works way better than ...</td>\n",
       "      <td>5</td>\n",
       "      <td>I love this so much It works way better than t...</td>\n",
       "      <td>1</td>\n",
       "    </tr>\n",
       "    <tr>\n",
       "      <th>183520</th>\n",
       "      <td>Baby Mucus Extractor, Nasal Aspirator From Dr....</td>\n",
       "      <td>The aspirator works well but needs to come wit...</td>\n",
       "      <td>4</td>\n",
       "      <td>The aspirator works well but needs to come wit...</td>\n",
       "      <td>1</td>\n",
       "    </tr>\n",
       "    <tr>\n",
       "      <th>183521</th>\n",
       "      <td>Airline Seat Belt Extender - The Best Extensio...</td>\n",
       "      <td>Up until recently I have hated flying, putting...</td>\n",
       "      <td>5</td>\n",
       "      <td>Up until recently I have hated flying putting ...</td>\n",
       "      <td>1</td>\n",
       "    </tr>\n",
       "    <tr>\n",
       "      <th>183522</th>\n",
       "      <td>Airline Seat Belt Extender - The Best Extensio...</td>\n",
       "      <td>I bought this as a father's day gift for my da...</td>\n",
       "      <td>5</td>\n",
       "      <td>I bought this as a fathers day gift for my dad...</td>\n",
       "      <td>1</td>\n",
       "    </tr>\n",
       "    <tr>\n",
       "      <th>183523</th>\n",
       "      <td>Squeasy Snacker 6oz Silicone Reusable Food Pou...</td>\n",
       "      <td>I love that these can hold purees OR liquids, ...</td>\n",
       "      <td>5</td>\n",
       "      <td>I love that these can hold purees OR liquids a...</td>\n",
       "      <td>1</td>\n",
       "    </tr>\n",
       "    <tr>\n",
       "      <th>183524</th>\n",
       "      <td>Squeasy Snacker 6oz Silicone Reusable Food Pou...</td>\n",
       "      <td>I love this product, it makes my life easier. ...</td>\n",
       "      <td>5</td>\n",
       "      <td>I love this product it makes my life easier Wi...</td>\n",
       "      <td>1</td>\n",
       "    </tr>\n",
       "    <tr>\n",
       "      <th>183525</th>\n",
       "      <td>Squeasy Snacker 6oz Silicone Reusable Food Pou...</td>\n",
       "      <td>This reusable squeeze bottle is the best I hav...</td>\n",
       "      <td>5</td>\n",
       "      <td>This reusable squeeze bottle is the best I hav...</td>\n",
       "      <td>1</td>\n",
       "    </tr>\n",
       "    <tr>\n",
       "      <th>183526</th>\n",
       "      <td>Baby Teething Necklace for Mom Pretty Donut Sh...</td>\n",
       "      <td>Such a great idea! very handy to have and look...</td>\n",
       "      <td>5</td>\n",
       "      <td>Such a great idea very handy to have and look ...</td>\n",
       "      <td>1</td>\n",
       "    </tr>\n",
       "    <tr>\n",
       "      <th>183527</th>\n",
       "      <td>Baby Teething Necklace for Mom Pretty Donut Sh...</td>\n",
       "      <td>This product rocks!  It is a great blend of fu...</td>\n",
       "      <td>5</td>\n",
       "      <td>This product rocks  It is a great blend of fun...</td>\n",
       "      <td>1</td>\n",
       "    </tr>\n",
       "    <tr>\n",
       "      <th>183528</th>\n",
       "      <td>Abstract 2 PK Baby / Toddler Training Cup (Pink)</td>\n",
       "      <td>This item looks great and cool for my kids.......</td>\n",
       "      <td>5</td>\n",
       "      <td>This item looks great and cool for my kidsI kn...</td>\n",
       "      <td>1</td>\n",
       "    </tr>\n",
       "    <tr>\n",
       "      <th>183529</th>\n",
       "      <td>Baby Food Freezer Tray - Bacteria Resistant, B...</td>\n",
       "      <td>I am extremely happy with this product. I have...</td>\n",
       "      <td>5</td>\n",
       "      <td>I am extremely happy with this product I have ...</td>\n",
       "      <td>1</td>\n",
       "    </tr>\n",
       "    <tr>\n",
       "      <th>183530</th>\n",
       "      <td>Best 2 Pack Baby Car Shade for Kids - Window S...</td>\n",
       "      <td>I love this product very mush . I have bought ...</td>\n",
       "      <td>5</td>\n",
       "      <td>I love this product very mush  I have bought m...</td>\n",
       "      <td>1</td>\n",
       "    </tr>\n",
       "  </tbody>\n",
       "</table>\n",
       "<p>166752 rows × 5 columns</p>\n",
       "</div>"
      ],
      "text/plain": [
       "                                                     name  \\\n",
       "1                                   Planetwise Wipe Pouch   \n",
       "2                     Annas Dream Full Quilt with 2 Shams   \n",
       "3       Stop Pacifier Sucking without tears with Thumb...   \n",
       "4       Stop Pacifier Sucking without tears with Thumb...   \n",
       "5       Stop Pacifier Sucking without tears with Thumb...   \n",
       "6                 A Tale of Baby's Days with Peter Rabbit   \n",
       "7       Baby Tracker&reg; - Daily Childcare Journal, S...   \n",
       "8       Baby Tracker&reg; - Daily Childcare Journal, S...   \n",
       "9       Baby Tracker&reg; - Daily Childcare Journal, S...   \n",
       "10      Baby Tracker&reg; - Daily Childcare Journal, S...   \n",
       "11      Baby Tracker&reg; - Daily Childcare Journal, S...   \n",
       "12      Baby Tracker&reg; - Daily Childcare Journal, S...   \n",
       "14         Nature's Lullabies First Year Sticker Calendar   \n",
       "15         Nature's Lullabies First Year Sticker Calendar   \n",
       "16         Nature's Lullabies First Year Sticker Calendar   \n",
       "17        Nature's Lullabies Second Year Sticker Calendar   \n",
       "18        Nature's Lullabies Second Year Sticker Calendar   \n",
       "19        Nature's Lullabies Second Year Sticker Calendar   \n",
       "20        Nature's Lullabies Second Year Sticker Calendar   \n",
       "21        Nature's Lullabies Second Year Sticker Calendar   \n",
       "22        Nature's Lullabies Second Year Sticker Calendar   \n",
       "24        Nature's Lullabies Second Year Sticker Calendar   \n",
       "25        Nature's Lullabies Second Year Sticker Calendar   \n",
       "26                           Baby's First Journal - Green   \n",
       "28                            Lamaze Peekaboo, I Love You   \n",
       "29                            Lamaze Peekaboo, I Love You   \n",
       "30                            Lamaze Peekaboo, I Love You   \n",
       "31                            Lamaze Peekaboo, I Love You   \n",
       "32                            Lamaze Peekaboo, I Love You   \n",
       "33                            Lamaze Peekaboo, I Love You   \n",
       "...                                                   ...   \n",
       "183499  Maxboost iPhone 5S/5 Case - Protective Snap-on...   \n",
       "183500  Maxboost iPhone 5S/5 Case - Protective Snap-on...   \n",
       "183501  Maxboost iPhone 5S/5 Case - Protective Snap-on...   \n",
       "183502  Maxboost iPhone 5S/5 Case - Protective Snap-on...   \n",
       "183503  Maxboost iPhone 5S/5 Case - Protective Snap-on...   \n",
       "183504  Maxboost iPhone 5S/5 Case - Protective Snap-on...   \n",
       "183505  Maxboost iPhone 5S/5 Case - Protective Snap-on...   \n",
       "183506  Maxboost iPhone 5S/5 Case - Protective Snap-on...   \n",
       "183507  Maxboost iPhone 5S/5 Case - Protective Snap-on...   \n",
       "183508  Maxboost iPhone 5S/5 Case - Protective Snap-on...   \n",
       "183509  Maxboost iPhone 5S/5 Case - Protective Snap-on...   \n",
       "183510  Maxboost iPhone 5S/5 Case - Protective Snap-on...   \n",
       "183512  Maxboost iPhone 5S/5 Case - Protective Snap-on...   \n",
       "183513  Maxboost iPhone 5S/5 Case - Protective Snap-on...   \n",
       "183514  Maxboost iPhone 5S/5 Case - Protective Snap-on...   \n",
       "183515  Maxboost iPhone 5S/5 Case - Protective Snap-on...   \n",
       "183517  Baby Mucus Extractor, Nasal Aspirator From Dr....   \n",
       "183518  Baby Mucus Extractor, Nasal Aspirator From Dr....   \n",
       "183519  Baby Mucus Extractor, Nasal Aspirator From Dr....   \n",
       "183520  Baby Mucus Extractor, Nasal Aspirator From Dr....   \n",
       "183521  Airline Seat Belt Extender - The Best Extensio...   \n",
       "183522  Airline Seat Belt Extender - The Best Extensio...   \n",
       "183523  Squeasy Snacker 6oz Silicone Reusable Food Pou...   \n",
       "183524  Squeasy Snacker 6oz Silicone Reusable Food Pou...   \n",
       "183525  Squeasy Snacker 6oz Silicone Reusable Food Pou...   \n",
       "183526  Baby Teething Necklace for Mom Pretty Donut Sh...   \n",
       "183527  Baby Teething Necklace for Mom Pretty Donut Sh...   \n",
       "183528   Abstract 2 PK Baby / Toddler Training Cup (Pink)   \n",
       "183529  Baby Food Freezer Tray - Bacteria Resistant, B...   \n",
       "183530  Best 2 Pack Baby Car Shade for Kids - Window S...   \n",
       "\n",
       "                                                   review  rating  \\\n",
       "1       it came early and was not disappointed. i love...       5   \n",
       "2       Very soft and comfortable and warmer than it l...       5   \n",
       "3       This is a product well worth the purchase.  I ...       5   \n",
       "4       All of my kids have cried non-stop when I trie...       5   \n",
       "5       When the Binky Fairy came to our house, we did...       5   \n",
       "6       Lovely book, it's bound tightly so you may not...       4   \n",
       "7       Perfect for new parents. We were able to keep ...       5   \n",
       "8       A friend of mine pinned this product on Pinter...       5   \n",
       "9       This has been an easy way for my nanny to reco...       4   \n",
       "10      I love this journal and our nanny uses it ever...       4   \n",
       "11      This book is perfect!  I'm a first time new mo...       5   \n",
       "12      I originally just gave the nanny a pad of pape...       4   \n",
       "14      Space for monthly photos, info and a lot of us...       5   \n",
       "15      I bought this calender for myself for my secon...       4   \n",
       "16      I love this little calender, you can keep trac...       5   \n",
       "17      This was the only calender I could find for th...       5   \n",
       "18      I completed a calendar for my son's first year...       4   \n",
       "19      We wanted to get something to keep track of ou...       5   \n",
       "20      I had a hard time finding a second year calend...       5   \n",
       "21      I only purchased a second-year calendar for my...       2   \n",
       "22      I LOVE this calendar for recording events of m...       5   \n",
       "24      Wife loves this calender. Comes with a lot of ...       5   \n",
       "25      My daughter had her 1st baby over a year ago. ...       5   \n",
       "26      Extremely useful! As a new mom, tired and inex...       5   \n",
       "28      One of baby's first and favorite books, and it...       4   \n",
       "29      I like how the book has a hook to attach it to...       5   \n",
       "30      Beautiful little book.  A great little short s...       5   \n",
       "31      This book is so worth the money. It says 9+ mo...       5   \n",
       "32      we just got this book for our one-year-old and...       5   \n",
       "33      The book is colorful and is perfect for 6month...       4   \n",
       "...                                                   ...     ...   \n",
       "183499  I received a free sample from VIPU program for...       5   \n",
       "183500  Great product, great company! Their daily give...       5   \n",
       "183501  I received a free sample from VIPU program for...       5   \n",
       "183502  It got here incredibly fast & it is a nice dur...       5   \n",
       "183503  I got this case in the mail today, it came on ...       2   \n",
       "183504  Free caseLove it... The color was great firm h...       5   \n",
       "183505  I received a free sample from VIPU program for...       5   \n",
       "183506  This case definitely isn't cheap. It feels ver...       5   \n",
       "183507  got this for my wife and she loves it would de...       5   \n",
       "183508  love this case. It fit perfectly and the color...       5   \n",
       "183509  this case is the greatest very cool and stylis...       5   \n",
       "183510              Great fit. Really love how red it is.       5   \n",
       "183512  *I received a free sample from VIPU program fo...       5   \n",
       "183513  I was a very surprised by the quality of this ...       5   \n",
       "183514  I received a free sample from VIPU program for...       4   \n",
       "183515  I love this phone case!  My  iPhone is always ...       5   \n",
       "183517  I recieved this product free of charge and abs...       5   \n",
       "183518  The tube is soft and easy to use, and the tip ...       5   \n",
       "183519  I love this so much. It works way better than ...       5   \n",
       "183520  The aspirator works well but needs to come wit...       4   \n",
       "183521  Up until recently I have hated flying, putting...       5   \n",
       "183522  I bought this as a father's day gift for my da...       5   \n",
       "183523  I love that these can hold purees OR liquids, ...       5   \n",
       "183524  I love this product, it makes my life easier. ...       5   \n",
       "183525  This reusable squeeze bottle is the best I hav...       5   \n",
       "183526  Such a great idea! very handy to have and look...       5   \n",
       "183527  This product rocks!  It is a great blend of fu...       5   \n",
       "183528  This item looks great and cool for my kids.......       5   \n",
       "183529  I am extremely happy with this product. I have...       5   \n",
       "183530  I love this product very mush . I have bought ...       5   \n",
       "\n",
       "                                             review_clean  sentiment  \n",
       "1       it came early and was not disappointed i love ...          1  \n",
       "2       Very soft and comfortable and warmer than it l...          1  \n",
       "3       This is a product well worth the purchase  I h...          1  \n",
       "4       All of my kids have cried nonstop when I tried...          1  \n",
       "5       When the Binky Fairy came to our house we didn...          1  \n",
       "6       Lovely book its bound tightly so you may not b...          1  \n",
       "7       Perfect for new parents We were able to keep t...          1  \n",
       "8       A friend of mine pinned this product on Pinter...          1  \n",
       "9       This has been an easy way for my nanny to reco...          1  \n",
       "10      I love this journal and our nanny uses it ever...          1  \n",
       "11      This book is perfect  Im a first time new mom ...          1  \n",
       "12      I originally just gave the nanny a pad of pape...          1  \n",
       "14      Space for monthly photos info and a lot of use...          1  \n",
       "15      I bought this calender for myself for my secon...          1  \n",
       "16      I love this little calender you can keep track...          1  \n",
       "17      This was the only calender I could find for th...          1  \n",
       "18      I completed a calendar for my sons first year ...          1  \n",
       "19      We wanted to get something to keep track of ou...          1  \n",
       "20      I had a hard time finding a second year calend...          1  \n",
       "21      I only purchased a secondyear calendar for my ...         -1  \n",
       "22      I LOVE this calendar for recording events of m...          1  \n",
       "24      Wife loves this calender Comes with a lot of s...          1  \n",
       "25      My daughter had her 1st baby over a year ago S...          1  \n",
       "26      Extremely useful As a new mom tired and inexpe...          1  \n",
       "28      One of babys first and favorite books and it i...          1  \n",
       "29      I like how the book has a hook to attach it to...          1  \n",
       "30      Beautiful little book  A great little short st...          1  \n",
       "31      This book is so worth the money It says 9 mont...          1  \n",
       "32      we just got this book for our oneyearold and s...          1  \n",
       "33      The book is colorful and is perfect for 6month...          1  \n",
       "...                                                   ...        ...  \n",
       "183499  I received a free sample from VIPU program for...          1  \n",
       "183500  Great product great company Their daily giveaw...          1  \n",
       "183501  I received a free sample from VIPU program for...          1  \n",
       "183502  It got here incredibly fast  it is a nice dura...          1  \n",
       "183503  I got this case in the mail today it came on t...         -1  \n",
       "183504  Free caseLove it The color was great firm hold...          1  \n",
       "183505  I received a free sample from VIPU program for...          1  \n",
       "183506  This case definitely isnt cheap It feels very ...          1  \n",
       "183507  got this for my wife and she loves it would de...          1  \n",
       "183508  love this case It fit perfectly and the color ...          1  \n",
       "183509  this case is the greatest very cool and stylis...          1  \n",
       "183510                Great fit Really love how red it is          1  \n",
       "183512  I received a free sample from VIPU program for...          1  \n",
       "183513  I was a very surprised by the quality of this ...          1  \n",
       "183514  I received a free sample from VIPU program for...          1  \n",
       "183515  I love this phone case  My  iPhone is always s...          1  \n",
       "183517  I recieved this product free of charge and abs...          1  \n",
       "183518  The tube is soft and easy to use and the tip i...          1  \n",
       "183519  I love this so much It works way better than t...          1  \n",
       "183520  The aspirator works well but needs to come wit...          1  \n",
       "183521  Up until recently I have hated flying putting ...          1  \n",
       "183522  I bought this as a fathers day gift for my dad...          1  \n",
       "183523  I love that these can hold purees OR liquids a...          1  \n",
       "183524  I love this product it makes my life easier Wi...          1  \n",
       "183525  This reusable squeeze bottle is the best I hav...          1  \n",
       "183526  Such a great idea very handy to have and look ...          1  \n",
       "183527  This product rocks  It is a great blend of fun...          1  \n",
       "183528  This item looks great and cool for my kidsI kn...          1  \n",
       "183529  I am extremely happy with this product I have ...          1  \n",
       "183530  I love this product very mush  I have bought m...          1  \n",
       "\n",
       "[166752 rows x 5 columns]"
      ]
     },
     "execution_count": 22,
     "metadata": {},
     "output_type": "execute_result"
    }
   ],
   "source": [
    "products['sentiment'] = products['rating'].apply(lambda rating : +1 if rating > 3 else -1)\n",
    "products"
   ]
  },
  {
   "cell_type": "markdown",
   "metadata": {},
   "source": [
    "Now, we can see that the dataset contains an extra column called **sentiment** which is either positive (+1) or negative (-1)."
   ]
  },
  {
   "cell_type": "markdown",
   "metadata": {},
   "source": [
    "## Split data into training and test sets"
   ]
  },
  {
   "cell_type": "markdown",
   "metadata": {},
   "source": [
    "Let's perform a train/test split with 80% of the data in the training set and 20% of the data in the test set. We use `seed=1` so that everyone gets the same result."
   ]
  },
  {
   "cell_type": "code",
   "execution_count": 25,
   "metadata": {
    "collapsed": false
   },
   "outputs": [],
   "source": [
    "import json\n",
    "\n",
    "with open('data/module-2-assignment-test-idx.json') as data_file:    \n",
    "    test_indexes = json.load(data_file)\n",
    "\n",
    "with open('data/module-2-assignment-train-idx.json') as data_file:    \n",
    "    train_indexes = json.load(data_file)"
   ]
  },
  {
   "cell_type": "code",
   "execution_count": 28,
   "metadata": {
    "collapsed": false
   },
   "outputs": [
    {
     "name": "stdout",
     "output_type": "stream",
     "text": [
      "133416\n",
      "33336\n"
     ]
    }
   ],
   "source": [
    "print len(train_indexes)\n",
    "print len(test_indexes)"
   ]
  },
  {
   "cell_type": "code",
   "execution_count": 26,
   "metadata": {
    "collapsed": false
   },
   "outputs": [
    {
     "name": "stdout",
     "output_type": "stream",
     "text": [
      "133416\n",
      "33336\n"
     ]
    }
   ],
   "source": [
    "train_data = products.iloc[train_indexes]\n",
    "test_data = products.iloc[test_indexes]\n",
    "#test_data = products.random_split(.8, seed=1)\n",
    "print len(train_data)\n",
    "print len(test_data)"
   ]
  },
  {
   "cell_type": "markdown",
   "metadata": {},
   "source": [
    "## Build the word count vector for each review\n",
    "\n",
    "We will now compute the word count for each word that appears in the reviews. A vector consisting of word counts is often referred to as bag-of-word features. Since most words occur in only a few reviews, word count vectors are sparse. For this reason, scikit-learn and many other tools use sparse matrices to store a collection of word count vectors. Refer to appropriate manuals to produce sparse word count vectors. General steps for extracting word count vectors are as follows:\n",
    "\n",
    "Learn a vocabulary (set of all words) from the training data. Only the words that show up in the training data will be considered for feature extraction.\n",
    "Compute the occurrences of the words in each review and collect them into a row vector.\n",
    "Build a sparse matrix where each row is the word count vector for the corresponding review. Call this matrix train_matrix.\n",
    "Using the same mapping between words and columns, convert the test data into a sparse matrix test_matrix.\n",
    "The following cell uses CountVectorizer in scikit-learn. Notice the token_pattern argument in the constructor."
   ]
  },
  {
   "cell_type": "code",
   "execution_count": 29,
   "metadata": {
    "collapsed": true
   },
   "outputs": [],
   "source": [
    "from sklearn.feature_extraction.text import CountVectorizer\n",
    "\n",
    "vectorizer = CountVectorizer(token_pattern=r'\\b\\w+\\b')\n",
    "# Use this token pattern to keep single-letter words\n",
    "# First, learn vocabulary from the training data and assign columns to words\n",
    "# Then convert the training data into a sparse matrix\n",
    "train_matrix = vectorizer.fit_transform(train_data['review_clean'])\n",
    "# Second, convert the test data into a sparse matrix, using the same word-column mapping\n",
    "test_matrix = vectorizer.transform(test_data['review_clean'])"
   ]
  },
  {
   "cell_type": "markdown",
   "metadata": {},
   "source": [
    "# Train a sentiment classifier with logistic regression\n",
    "\n",
    "We will now use logistic regression to create a sentiment classifier on the training data.\n",
    "\n",
    "7. Learn a logistic regression classifier using the training data. If you are using scikit-learn, you should create an instance of the LogisticRegression class and then call the method fit() to train the classifier. This model should use the sparse word count matrix (train_matrix) as features and the column sentiment of train_data as the target. Use the default values for other parameters. Call this model sentiment_model.\n",
    "\n",
    "8. There should be over 100,000 coefficients in this sentiment_model. Recall from the lecture that positive weights w_j correspond to weights that cause positive sentiment, while negative weights correspond to negative sentiment. Calculate the number of positive (>= 0, which is actually nonnegative) coefficients.\n",
    "\n",
    "### Quiz question: How many weights are >= 0?"
   ]
  },
  {
   "cell_type": "code",
   "execution_count": 30,
   "metadata": {
    "collapsed": false
   },
   "outputs": [],
   "source": [
    "from sklearn.linear_model import LogisticRegression\n",
    "sentiment_model = LogisticRegression().fit(train_matrix, train_data['sentiment'])"
   ]
  },
  {
   "cell_type": "code",
   "execution_count": 31,
   "metadata": {
    "collapsed": false,
    "scrolled": true
   },
   "outputs": [
    {
     "data": {
      "text/plain": [
       "LogisticRegression(C=1.0, class_weight=None, dual=False, fit_intercept=True,\n",
       "          intercept_scaling=1, max_iter=100, multi_class='ovr', n_jobs=1,\n",
       "          penalty='l2', random_state=None, solver='liblinear', tol=0.0001,\n",
       "          verbose=0, warm_start=False)"
      ]
     },
     "execution_count": 31,
     "metadata": {},
     "output_type": "execute_result"
    }
   ],
   "source": [
    "sentiment_model"
   ]
  },
  {
   "cell_type": "code",
   "execution_count": 39,
   "metadata": {
    "collapsed": false
   },
   "outputs": [
    {
     "name": "stdout",
     "output_type": "stream",
     "text": [
      "Number of positive weights: 87059 \n",
      "Number of negative weights: 34653 \n"
     ]
    }
   ],
   "source": [
    "num_positive_weights = sum(sentiment_model.coef_[0] >= 0)\n",
    "num_negative_weights = sum(sentiment_model.coef_[0] < 0)\n",
    "\n",
    "print \"Number of positive weights: %s \" % num_positive_weights\n",
    "print \"Number of negative weights: %s \" % num_negative_weights"
   ]
  },
  {
   "cell_type": "markdown",
   "metadata": {},
   "source": [
    "# Making predictions with logistic regression\n",
    "\n",
    " 9. Now that a model is trained, we can make predictions on the test data. In this section, we will explore this in the context of 3 data points in the test data. Take the 11th, 12th, and 13th data points in the test data and save them to sample_test_data. The following cell extracts the three data points from the SFrame test_data and print their content:"
   ]
  },
  {
   "cell_type": "code",
   "execution_count": 40,
   "metadata": {
    "collapsed": false
   },
   "outputs": [
    {
     "name": "stdout",
     "output_type": "stream",
     "text": [
      "                                                 name  \\\n",
      "59                          Our Baby Girl Memory Book   \n",
      "71  Wall Decor Removable Decal Sticker - Colorful ...   \n",
      "91  New Style Trailing Cherry Blossom Tree Decal R...   \n",
      "\n",
      "                                               review  rating  \\\n",
      "59  Absolutely love it and all of the Scripture in...       5   \n",
      "71  Would not purchase again or recommend. The dec...       2   \n",
      "91  Was so excited to get this product for my baby...       1   \n",
      "\n",
      "                                         review_clean  sentiment  \n",
      "59  Absolutely love it and all of the Scripture in...          1  \n",
      "71  Would not purchase again or recommend The deca...         -1  \n",
      "91  Was so excited to get this product for my baby...         -1  \n"
     ]
    }
   ],
   "source": [
    "sample_test_data = test_data.iloc[10:13]\n",
    "print sample_test_data"
   ]
  },
  {
   "cell_type": "markdown",
   "metadata": {},
   "source": [
    "Let's dig deeper into the first row of the **sample_test_data**. Here's the full review:"
   ]
  },
  {
   "cell_type": "code",
   "execution_count": 41,
   "metadata": {
    "collapsed": false
   },
   "outputs": [
    {
     "data": {
      "text/plain": [
       "'Absolutely love it and all of the Scripture in it.  I purchased the Baby Boy version for my grandson when he was born and my daughter-in-law was thrilled to receive the same book again.'"
      ]
     },
     "execution_count": 41,
     "metadata": {},
     "output_type": "execute_result"
    }
   ],
   "source": [
    "sample_test_data.iloc[0]['review']"
   ]
  },
  {
   "cell_type": "markdown",
   "metadata": {},
   "source": [
    "That review seems pretty positive.\n",
    "\n",
    "Now, let's see what the next row of the **sample_test_data** looks like. As we could guess from the sentiment (-1), the review is quite negative."
   ]
  },
  {
   "cell_type": "code",
   "execution_count": 43,
   "metadata": {
    "collapsed": false
   },
   "outputs": [
    {
     "data": {
      "text/plain": [
       "'Would not purchase again or recommend. The decals were thick almost plastic like and were coming off the wall as I was applying them! The would NOT stick! Literally stayed stuck for about 5 minutes then started peeling off.'"
      ]
     },
     "execution_count": 43,
     "metadata": {},
     "output_type": "execute_result"
    }
   ],
   "source": [
    "sample_test_data.iloc[1]['review']"
   ]
  },
  {
   "cell_type": "markdown",
   "metadata": {},
   "source": [
    "We will now make a **class** prediction for the **sample_test_data**. The `sentiment_model` should predict **+1** if the sentiment is positive and **-1** if the sentiment is negative. Recall from the lecture that the **score** (sometimes called **margin**) for the logistic regression model  is defined as:\n",
    "\n",
    "$$\n",
    "\\mbox{score}_i = \\mathbf{w}^T h(\\mathbf{x}_i)\n",
    "$$ \n",
    "\n",
    "where $h(\\mathbf{x}_i)$ represents the features for example $i$.  We will write some code to obtain the **scores** using GraphLab Create. For each row, the **score** (or margin) is a number in the range **[-inf, inf]**."
   ]
  },
  {
   "cell_type": "code",
   "execution_count": 44,
   "metadata": {
    "collapsed": false
   },
   "outputs": [
    {
     "name": "stdout",
     "output_type": "stream",
     "text": [
      "[  5.60150644  -3.17110494 -10.42378277]\n"
     ]
    }
   ],
   "source": [
    "sample_test_matrix = vectorizer.transform(sample_test_data['review_clean'])\n",
    "scores = sentiment_model.decision_function(sample_test_matrix)\n",
    "print scores"
   ]
  },
  {
   "cell_type": "markdown",
   "metadata": {},
   "source": [
    "### Predicting sentiment\n",
    "\n",
    "These scores can be used to make class predictions as follows:\n",
    "\n",
    "$$\n",
    "\\hat{y} = \n",
    "\\left\\{\n",
    "\\begin{array}{ll}\n",
    "      +1 & \\mathbf{w}^T h(\\mathbf{x}_i) > 0 \\\\\n",
    "      -1 & \\mathbf{w}^T h(\\mathbf{x}_i) \\leq 0 \\\\\n",
    "\\end{array} \n",
    "\\right.\n",
    "$$\n",
    "\n",
    "Using scores, write code to calculate $\\hat{y}$, the class predictions:"
   ]
  },
  {
   "cell_type": "code",
   "execution_count": 52,
   "metadata": {
    "collapsed": false
   },
   "outputs": [],
   "source": [
    "def get_class_prediction(score):\n",
    "    if score > 0:\n",
    "        return 1\n",
    "    else:\n",
    "        return -1"
   ]
  },
  {
   "cell_type": "code",
   "execution_count": 53,
   "metadata": {
    "collapsed": false
   },
   "outputs": [
    {
     "data": {
      "text/plain": [
       "[1, -1, -1]"
      ]
     },
     "execution_count": 53,
     "metadata": {},
     "output_type": "execute_result"
    }
   ],
   "source": [
    "map(get_class_prediction, scores)"
   ]
  },
  {
   "cell_type": "markdown",
   "metadata": {},
   "source": [
    "Run the following code to verify that the class predictions obtained by your calculations are the same as that obtained from GraphLab Create."
   ]
  },
  {
   "cell_type": "code",
   "execution_count": 51,
   "metadata": {
    "collapsed": false
   },
   "outputs": [
    {
     "name": "stdout",
     "output_type": "stream",
     "text": [
      "Class predictions according to Sklearn:\n",
      "[ 1 -1 -1]\n"
     ]
    }
   ],
   "source": [
    "print \"Class predictions according to Sklearn:\" \n",
    "print sentiment_model.predict(sample_test_matrix)"
   ]
  },
  {
   "cell_type": "markdown",
   "metadata": {},
   "source": [
    "**Checkpoint**: Make sure your class predictions match with the one obtained from GraphLab Create.\n",
    "\n",
    "### Probability predictions\n",
    "\n",
    "Recall from the lectures that we can also calculate the probability predictions from the scores using:\n",
    "$$\n",
    "P(y_i = +1 | \\mathbf{x}_i,\\mathbf{w}) = \\frac{1}{1 + \\exp(-\\mathbf{w}^T h(\\mathbf{x}_i))}.\n",
    "$$\n",
    "\n",
    "Using the variable **scores** calculated previously, write code to calculate the probability that a sentiment is positive using the above formula. For each row, the probabilities should be a number in the range **[0, 1]**."
   ]
  },
  {
   "cell_type": "code",
   "execution_count": 55,
   "metadata": {
    "collapsed": false
   },
   "outputs": [],
   "source": [
    "import numpy as np\n",
    "def get_proba(score):\n",
    "    return 1 / (1 + np.exp(-score))"
   ]
  },
  {
   "cell_type": "code",
   "execution_count": 56,
   "metadata": {
    "collapsed": false
   },
   "outputs": [
    {
     "data": {
      "text/plain": [
       "[0.99632128559196442, 0.04026769205939245, 2.9716370056769632e-05]"
      ]
     },
     "execution_count": 56,
     "metadata": {},
     "output_type": "execute_result"
    }
   ],
   "source": [
    "map(get_proba, scores)"
   ]
  },
  {
   "cell_type": "markdown",
   "metadata": {},
   "source": [
    "**Checkpoint**: Make sure your probability predictions match the ones obtained from GraphLab Create."
   ]
  },
  {
   "cell_type": "code",
   "execution_count": 57,
   "metadata": {
    "collapsed": false
   },
   "outputs": [
    {
     "name": "stdout",
     "output_type": "stream",
     "text": [
      "Class predictions according to Sklearn:\n",
      "[[  3.67871441e-03   9.96321286e-01]\n",
      " [  9.59732308e-01   4.02676921e-02]\n",
      " [  9.99970284e-01   2.97163701e-05]]\n"
     ]
    }
   ],
   "source": [
    "print \"Class predictions according to Sklearn:\" \n",
    "print sentiment_model.predict_proba(sample_test_matrix)"
   ]
  },
  {
   "cell_type": "markdown",
   "metadata": {},
   "source": [
    "** Quiz Question:** Of the three data points in **sample_test_data**, which one (first, second, or third) has the **lowest probability** of being classified as a positive review?"
   ]
  },
  {
   "cell_type": "markdown",
   "metadata": {},
   "source": [
    "# Find the most positive (and negative) review"
   ]
  },
  {
   "cell_type": "markdown",
   "metadata": {},
   "source": [
    "We now turn to examining the full test dataset, **test_data**, and use GraphLab Create to form predictions on all of the test data points for faster performance.\n",
    "\n",
    "Using the `sentiment_model`, find the 20 reviews in the entire **test_data** with the **highest probability** of being classified as a **positive review**. We refer to these as the \"most positive reviews.\"\n",
    "\n",
    "To calculate these top-20 reviews, use the following steps:\n",
    "1.  Make probability predictions on **test_data** using the `sentiment_model`. (**Hint:** When you call `.predict` to make predictions on the test data, use option `output_type='probability'` to output the probability rather than just the most likely class.)\n",
    "2.  Sort the data according to those predictions and pick the top 20. (**Hint:** You can use the `.topk` method on an SFrame to find the top k rows sorted according to the value of a specified column.)"
   ]
  },
  {
   "cell_type": "code",
   "execution_count": 59,
   "metadata": {
    "collapsed": false
   },
   "outputs": [],
   "source": [
    "test_proba = sentiment_model.predict_proba(test_matrix)"
   ]
  },
  {
   "cell_type": "code",
   "execution_count": 73,
   "metadata": {
    "collapsed": false
   },
   "outputs": [
    {
     "name": "stderr",
     "output_type": "stream",
     "text": [
      "/Users/ajkale/projects/dato-env/lib/python2.7/site-packages/ipykernel/__main__.py:1: SettingWithCopyWarning: \n",
      "A value is trying to be set on a copy of a slice from a DataFrame.\n",
      "Try using .loc[row_indexer,col_indexer] = value instead\n",
      "\n",
      "See the caveats in the documentation: http://pandas.pydata.org/pandas-docs/stable/indexing.html#indexing-view-versus-copy\n",
      "  if __name__ == '__main__':\n"
     ]
    }
   ],
   "source": [
    "test_data['y_pred'] = test_proba[:,1]"
   ]
  },
  {
   "cell_type": "code",
   "execution_count": 80,
   "metadata": {
    "collapsed": false
   },
   "outputs": [
    {
     "data": {
      "text/html": [
       "<div>\n",
       "<table border=\"1\" class=\"dataframe\">\n",
       "  <thead>\n",
       "    <tr style=\"text-align: right;\">\n",
       "      <th></th>\n",
       "      <th>name</th>\n",
       "      <th>review</th>\n",
       "      <th>rating</th>\n",
       "      <th>review_clean</th>\n",
       "      <th>sentiment</th>\n",
       "      <th>y_pred</th>\n",
       "    </tr>\n",
       "  </thead>\n",
       "  <tbody>\n",
       "    <tr>\n",
       "      <th>168697</th>\n",
       "      <td>Graco FastAction Fold Jogger Click Connect Str...</td>\n",
       "      <td>Graco's FastAction Jogging Stroller definitely...</td>\n",
       "      <td>5</td>\n",
       "      <td>Gracos FastAction Jogging Stroller definitely ...</td>\n",
       "      <td>1</td>\n",
       "      <td>1</td>\n",
       "    </tr>\n",
       "    <tr>\n",
       "      <th>66059</th>\n",
       "      <td>Evenflo 6 Pack Classic Glass Bottle, 4-Ounce</td>\n",
       "      <td>It's always fun to write a review on those pro...</td>\n",
       "      <td>5</td>\n",
       "      <td>Its always fun to write a review on those prod...</td>\n",
       "      <td>1</td>\n",
       "      <td>1</td>\n",
       "    </tr>\n",
       "    <tr>\n",
       "      <th>119182</th>\n",
       "      <td>Roan Rocco Classic Pram Stroller 2-in-1 with B...</td>\n",
       "      <td>Great Pram Rocco!!!!!!I bought this pram from ...</td>\n",
       "      <td>5</td>\n",
       "      <td>Great Pram RoccoI bought this pram from Europe...</td>\n",
       "      <td>1</td>\n",
       "      <td>1</td>\n",
       "    </tr>\n",
       "    <tr>\n",
       "      <th>168081</th>\n",
       "      <td>Buttons Cloth Diaper Cover - One Size - 8 Colo...</td>\n",
       "      <td>We are big Best Bottoms fans here, but I wante...</td>\n",
       "      <td>4</td>\n",
       "      <td>We are big Best Bottoms fans here but I wanted...</td>\n",
       "      <td>1</td>\n",
       "      <td>1</td>\n",
       "    </tr>\n",
       "    <tr>\n",
       "      <th>80155</th>\n",
       "      <td>Simple Wishes Hands-Free Breastpump Bra, Pink,...</td>\n",
       "      <td>I just tried this hands free breastpump bra, a...</td>\n",
       "      <td>5</td>\n",
       "      <td>I just tried this hands free breastpump bra an...</td>\n",
       "      <td>1</td>\n",
       "      <td>1</td>\n",
       "    </tr>\n",
       "    <tr>\n",
       "      <th>52631</th>\n",
       "      <td>Evenflo X Sport Plus Convenience Stroller - Ch...</td>\n",
       "      <td>After seeing this in Parent's Magazine and rea...</td>\n",
       "      <td>5</td>\n",
       "      <td>After seeing this in Parents Magazine and read...</td>\n",
       "      <td>1</td>\n",
       "      <td>1</td>\n",
       "    </tr>\n",
       "    <tr>\n",
       "      <th>133651</th>\n",
       "      <td>Britax 2012 B-Agile Stroller, Red</td>\n",
       "      <td>[I got this stroller for my daughter prior to ...</td>\n",
       "      <td>4</td>\n",
       "      <td>I got this stroller for my daughter prior to t...</td>\n",
       "      <td>1</td>\n",
       "      <td>1</td>\n",
       "    </tr>\n",
       "    <tr>\n",
       "      <th>137034</th>\n",
       "      <td>Graco Pack 'n Play Element Playard - Flint</td>\n",
       "      <td>My husband and I assembled this Pack n' Play l...</td>\n",
       "      <td>4</td>\n",
       "      <td>My husband and I assembled this Pack n Play la...</td>\n",
       "      <td>1</td>\n",
       "      <td>1</td>\n",
       "    </tr>\n",
       "    <tr>\n",
       "      <th>22586</th>\n",
       "      <td>Britax Decathlon Convertible Car Seat, Tiffany</td>\n",
       "      <td>I researched a few different seats to put in o...</td>\n",
       "      <td>4</td>\n",
       "      <td>I researched a few different seats to put in o...</td>\n",
       "      <td>1</td>\n",
       "      <td>1</td>\n",
       "    </tr>\n",
       "    <tr>\n",
       "      <th>100166</th>\n",
       "      <td>Infantino Wrap and Tie Baby Carrier, Black Blu...</td>\n",
       "      <td>I bought this carrier when my daughter was abo...</td>\n",
       "      <td>5</td>\n",
       "      <td>I bought this carrier when my daughter was abo...</td>\n",
       "      <td>1</td>\n",
       "      <td>1</td>\n",
       "    </tr>\n",
       "    <tr>\n",
       "      <th>87017</th>\n",
       "      <td>Baby Einstein Around The World Discovery Center</td>\n",
       "      <td>I am so HAPPY I brought this item for my 7 mon...</td>\n",
       "      <td>5</td>\n",
       "      <td>I am so HAPPY I brought this item for my 7 mon...</td>\n",
       "      <td>1</td>\n",
       "      <td>1</td>\n",
       "    </tr>\n",
       "    <tr>\n",
       "      <th>140816</th>\n",
       "      <td>Diono RadianRXT Convertible Car Seat, Plum</td>\n",
       "      <td>I bought this seat for my tall (38in) and thin...</td>\n",
       "      <td>5</td>\n",
       "      <td>I bought this seat for my tall 38in and thin 2...</td>\n",
       "      <td>1</td>\n",
       "      <td>1</td>\n",
       "    </tr>\n",
       "    <tr>\n",
       "      <th>114796</th>\n",
       "      <td>Fisher-Price Cradle 'N Swing,  My Little Snuga...</td>\n",
       "      <td>My husband and I cannot state enough how much ...</td>\n",
       "      <td>5</td>\n",
       "      <td>My husband and I cannot state enough how much ...</td>\n",
       "      <td>1</td>\n",
       "      <td>1</td>\n",
       "    </tr>\n",
       "    <tr>\n",
       "      <th>97325</th>\n",
       "      <td>Freemie Hands-Free Concealable Breast Pump Col...</td>\n",
       "      <td>I absolutely love this product.  I work as a C...</td>\n",
       "      <td>5</td>\n",
       "      <td>I absolutely love this product  I work as a Cu...</td>\n",
       "      <td>1</td>\n",
       "      <td>1</td>\n",
       "    </tr>\n",
       "    <tr>\n",
       "      <th>147949</th>\n",
       "      <td>Baby Jogger City Mini GT Single Stroller, Shad...</td>\n",
       "      <td>Amazing, Love, Love, Love it !!! All 5 STARS a...</td>\n",
       "      <td>5</td>\n",
       "      <td>Amazing Love Love Love it  All 5 STARS all the...</td>\n",
       "      <td>1</td>\n",
       "      <td>1</td>\n",
       "    </tr>\n",
       "    <tr>\n",
       "      <th>180646</th>\n",
       "      <td>Mamas &amp;amp; Papas 2014 Urbo2 Stroller - Black</td>\n",
       "      <td>After much research I purchased an Urbo2. It's...</td>\n",
       "      <td>4</td>\n",
       "      <td>After much research I purchased an Urbo2 Its e...</td>\n",
       "      <td>1</td>\n",
       "      <td>1</td>\n",
       "    </tr>\n",
       "    <tr>\n",
       "      <th>50315</th>\n",
       "      <td>P'Kolino Silly Soft Seating in Tias, Green</td>\n",
       "      <td>I've purchased both the P'Kolino Little Reader...</td>\n",
       "      <td>4</td>\n",
       "      <td>Ive purchased both the PKolino Little Reader C...</td>\n",
       "      <td>1</td>\n",
       "      <td>1</td>\n",
       "    </tr>\n",
       "    <tr>\n",
       "      <th>165593</th>\n",
       "      <td>Ikea 36 Pcs Kalas Kids Plastic BPA Free Flatwa...</td>\n",
       "      <td>For the price this set is unbelievable- and tr...</td>\n",
       "      <td>5</td>\n",
       "      <td>For the price this set is unbelievable and tru...</td>\n",
       "      <td>1</td>\n",
       "      <td>1</td>\n",
       "    </tr>\n",
       "    <tr>\n",
       "      <th>182089</th>\n",
       "      <td>Summer Infant Wide View Digital Color Video Mo...</td>\n",
       "      <td>I love this baby monitor.  I can compare this ...</td>\n",
       "      <td>5</td>\n",
       "      <td>I love this baby monitor  I can compare this o...</td>\n",
       "      <td>1</td>\n",
       "      <td>1</td>\n",
       "    </tr>\n",
       "    <tr>\n",
       "      <th>172351</th>\n",
       "      <td>Phil &amp;amp; Teds Navigator Buggy Golden Kiwi Fr...</td>\n",
       "      <td>I'm pretty happy with this stroller. I use it ...</td>\n",
       "      <td>4</td>\n",
       "      <td>Im pretty happy with this stroller I use it wi...</td>\n",
       "      <td>1</td>\n",
       "      <td>1</td>\n",
       "    </tr>\n",
       "  </tbody>\n",
       "</table>\n",
       "</div>"
      ],
      "text/plain": [
       "                                                     name  \\\n",
       "168697  Graco FastAction Fold Jogger Click Connect Str...   \n",
       "66059        Evenflo 6 Pack Classic Glass Bottle, 4-Ounce   \n",
       "119182  Roan Rocco Classic Pram Stroller 2-in-1 with B...   \n",
       "168081  Buttons Cloth Diaper Cover - One Size - 8 Colo...   \n",
       "80155   Simple Wishes Hands-Free Breastpump Bra, Pink,...   \n",
       "52631   Evenflo X Sport Plus Convenience Stroller - Ch...   \n",
       "133651                  Britax 2012 B-Agile Stroller, Red   \n",
       "137034         Graco Pack 'n Play Element Playard - Flint   \n",
       "22586      Britax Decathlon Convertible Car Seat, Tiffany   \n",
       "100166  Infantino Wrap and Tie Baby Carrier, Black Blu...   \n",
       "87017     Baby Einstein Around The World Discovery Center   \n",
       "140816         Diono RadianRXT Convertible Car Seat, Plum   \n",
       "114796  Fisher-Price Cradle 'N Swing,  My Little Snuga...   \n",
       "97325   Freemie Hands-Free Concealable Breast Pump Col...   \n",
       "147949  Baby Jogger City Mini GT Single Stroller, Shad...   \n",
       "180646      Mamas &amp; Papas 2014 Urbo2 Stroller - Black   \n",
       "50315          P'Kolino Silly Soft Seating in Tias, Green   \n",
       "165593  Ikea 36 Pcs Kalas Kids Plastic BPA Free Flatwa...   \n",
       "182089  Summer Infant Wide View Digital Color Video Mo...   \n",
       "172351  Phil &amp; Teds Navigator Buggy Golden Kiwi Fr...   \n",
       "\n",
       "                                                   review  rating  \\\n",
       "168697  Graco's FastAction Jogging Stroller definitely...       5   \n",
       "66059   It's always fun to write a review on those pro...       5   \n",
       "119182  Great Pram Rocco!!!!!!I bought this pram from ...       5   \n",
       "168081  We are big Best Bottoms fans here, but I wante...       4   \n",
       "80155   I just tried this hands free breastpump bra, a...       5   \n",
       "52631   After seeing this in Parent's Magazine and rea...       5   \n",
       "133651  [I got this stroller for my daughter prior to ...       4   \n",
       "137034  My husband and I assembled this Pack n' Play l...       4   \n",
       "22586   I researched a few different seats to put in o...       4   \n",
       "100166  I bought this carrier when my daughter was abo...       5   \n",
       "87017   I am so HAPPY I brought this item for my 7 mon...       5   \n",
       "140816  I bought this seat for my tall (38in) and thin...       5   \n",
       "114796  My husband and I cannot state enough how much ...       5   \n",
       "97325   I absolutely love this product.  I work as a C...       5   \n",
       "147949  Amazing, Love, Love, Love it !!! All 5 STARS a...       5   \n",
       "180646  After much research I purchased an Urbo2. It's...       4   \n",
       "50315   I've purchased both the P'Kolino Little Reader...       4   \n",
       "165593  For the price this set is unbelievable- and tr...       5   \n",
       "182089  I love this baby monitor.  I can compare this ...       5   \n",
       "172351  I'm pretty happy with this stroller. I use it ...       4   \n",
       "\n",
       "                                             review_clean  sentiment  y_pred  \n",
       "168697  Gracos FastAction Jogging Stroller definitely ...          1       1  \n",
       "66059   Its always fun to write a review on those prod...          1       1  \n",
       "119182  Great Pram RoccoI bought this pram from Europe...          1       1  \n",
       "168081  We are big Best Bottoms fans here but I wanted...          1       1  \n",
       "80155   I just tried this hands free breastpump bra an...          1       1  \n",
       "52631   After seeing this in Parents Magazine and read...          1       1  \n",
       "133651  I got this stroller for my daughter prior to t...          1       1  \n",
       "137034  My husband and I assembled this Pack n Play la...          1       1  \n",
       "22586   I researched a few different seats to put in o...          1       1  \n",
       "100166  I bought this carrier when my daughter was abo...          1       1  \n",
       "87017   I am so HAPPY I brought this item for my 7 mon...          1       1  \n",
       "140816  I bought this seat for my tall 38in and thin 2...          1       1  \n",
       "114796  My husband and I cannot state enough how much ...          1       1  \n",
       "97325   I absolutely love this product  I work as a Cu...          1       1  \n",
       "147949  Amazing Love Love Love it  All 5 STARS all the...          1       1  \n",
       "180646  After much research I purchased an Urbo2 Its e...          1       1  \n",
       "50315   Ive purchased both the PKolino Little Reader C...          1       1  \n",
       "165593  For the price this set is unbelievable and tru...          1       1  \n",
       "182089  I love this baby monitor  I can compare this o...          1       1  \n",
       "172351  Im pretty happy with this stroller I use it wi...          1       1  "
      ]
     },
     "execution_count": 80,
     "metadata": {},
     "output_type": "execute_result"
    }
   ],
   "source": [
    "test_data.sort_values(by='y_pred', ascending=False).iloc[0:20]"
   ]
  },
  {
   "cell_type": "markdown",
   "metadata": {},
   "source": [
    "**Quiz Question**: Which of the following products are represented in the 20 most positive reviews? [multiple choice]\n",
    "\n",
    "\n",
    "Now, let us repeat this excercise to find the \"most negative reviews.\" Use the prediction probabilities to find the  20 reviews in the **test_data** with the **lowest probability** of being classified as a **positive review**. Repeat the same steps above but make sure you **sort in the opposite order**."
   ]
  },
  {
   "cell_type": "code",
   "execution_count": 81,
   "metadata": {
    "collapsed": false,
    "scrolled": true
   },
   "outputs": [
    {
     "data": {
      "text/html": [
       "<div>\n",
       "<table border=\"1\" class=\"dataframe\">\n",
       "  <thead>\n",
       "    <tr style=\"text-align: right;\">\n",
       "      <th></th>\n",
       "      <th>name</th>\n",
       "      <th>review</th>\n",
       "      <th>rating</th>\n",
       "      <th>review_clean</th>\n",
       "      <th>sentiment</th>\n",
       "      <th>y_pred</th>\n",
       "    </tr>\n",
       "  </thead>\n",
       "  <tbody>\n",
       "    <tr>\n",
       "      <th>16042</th>\n",
       "      <td>Fisher-Price Ocean Wonders Aquarium Bouncer</td>\n",
       "      <td>We have not had ANY luck with Fisher-Price pro...</td>\n",
       "      <td>2</td>\n",
       "      <td>We have not had ANY luck with FisherPrice prod...</td>\n",
       "      <td>-1</td>\n",
       "      <td>8.474423e-16</td>\n",
       "    </tr>\n",
       "    <tr>\n",
       "      <th>120209</th>\n",
       "      <td>Levana Safe N'See Digital Video Baby Monitor w...</td>\n",
       "      <td>This is the first review I have ever written o...</td>\n",
       "      <td>1</td>\n",
       "      <td>This is the first review I have ever written o...</td>\n",
       "      <td>-1</td>\n",
       "      <td>1.594857e-15</td>\n",
       "    </tr>\n",
       "    <tr>\n",
       "      <th>77072</th>\n",
       "      <td>Safety 1st Exchangeable Tip 3 in 1 Thermometer</td>\n",
       "      <td>I thought it sounded great to have different t...</td>\n",
       "      <td>1</td>\n",
       "      <td>I thought it sounded great to have different t...</td>\n",
       "      <td>-1</td>\n",
       "      <td>8.141167e-14</td>\n",
       "    </tr>\n",
       "    <tr>\n",
       "      <th>48694</th>\n",
       "      <td>Adiri BPA Free Natural Nurser Ultimate Bottle ...</td>\n",
       "      <td>I will try to write an objective review of the...</td>\n",
       "      <td>2</td>\n",
       "      <td>I will try to write an objective review of the...</td>\n",
       "      <td>-1</td>\n",
       "      <td>9.830462e-14</td>\n",
       "    </tr>\n",
       "    <tr>\n",
       "      <th>155287</th>\n",
       "      <td>VTech Communications Safe &amp;amp; Sounds Full Co...</td>\n",
       "      <td>This is my second video monitoring system, the...</td>\n",
       "      <td>1</td>\n",
       "      <td>This is my second video monitoring system the ...</td>\n",
       "      <td>-1</td>\n",
       "      <td>1.941793e-13</td>\n",
       "    </tr>\n",
       "    <tr>\n",
       "      <th>94560</th>\n",
       "      <td>The First Years True Choice P400 Premium Digit...</td>\n",
       "      <td>Note: we never installed batteries in these un...</td>\n",
       "      <td>1</td>\n",
       "      <td>Note we never installed batteries in these uni...</td>\n",
       "      <td>-1</td>\n",
       "      <td>3.324655e-13</td>\n",
       "    </tr>\n",
       "    <tr>\n",
       "      <th>53207</th>\n",
       "      <td>Safety 1st High-Def Digital Monitor</td>\n",
       "      <td>We bought this baby monitor to replace a diffe...</td>\n",
       "      <td>1</td>\n",
       "      <td>We bought this baby monitor to replace a diffe...</td>\n",
       "      <td>-1</td>\n",
       "      <td>3.272253e-11</td>\n",
       "    </tr>\n",
       "    <tr>\n",
       "      <th>81332</th>\n",
       "      <td>Cloth Diaper Sprayer--styles may vary</td>\n",
       "      <td>I bought this sprayer out of desperation durin...</td>\n",
       "      <td>1</td>\n",
       "      <td>I bought this sprayer out of desperation durin...</td>\n",
       "      <td>-1</td>\n",
       "      <td>3.329506e-11</td>\n",
       "    </tr>\n",
       "    <tr>\n",
       "      <th>10677</th>\n",
       "      <td>Philips AVENT Newborn Starter Set</td>\n",
       "      <td>It's 3am in the morning and needless to say, t...</td>\n",
       "      <td>1</td>\n",
       "      <td>Its 3am in the morning and needless to say thi...</td>\n",
       "      <td>-1</td>\n",
       "      <td>9.494597e-11</td>\n",
       "    </tr>\n",
       "    <tr>\n",
       "      <th>113995</th>\n",
       "      <td>Motorola Digital Video Baby Monitor with Room ...</td>\n",
       "      <td>DO NOT BUY THIS BABY MONITOR!I purchased this ...</td>\n",
       "      <td>1</td>\n",
       "      <td>DO NOT BUY THIS BABY MONITORI purchased this m...</td>\n",
       "      <td>-1</td>\n",
       "      <td>9.585600e-11</td>\n",
       "    </tr>\n",
       "    <tr>\n",
       "      <th>59546</th>\n",
       "      <td>Ellaroo Mei Tai Baby Carrier - Hershey</td>\n",
       "      <td>This is basically an overpriced piece of fabri...</td>\n",
       "      <td>1</td>\n",
       "      <td>This is basically an overpriced piece of fabri...</td>\n",
       "      <td>-1</td>\n",
       "      <td>4.353072e-10</td>\n",
       "    </tr>\n",
       "    <tr>\n",
       "      <th>9915</th>\n",
       "      <td>Cosco Alpha Omega Elite Convertible Car Seat</td>\n",
       "      <td>I bought this car seat after both seeing  the ...</td>\n",
       "      <td>1</td>\n",
       "      <td>I bought this car seat after both seeing  the ...</td>\n",
       "      <td>-1</td>\n",
       "      <td>4.385850e-10</td>\n",
       "    </tr>\n",
       "    <tr>\n",
       "      <th>40079</th>\n",
       "      <td>Chicco Cortina KeyFit 30 Travel System in Adve...</td>\n",
       "      <td>My wife and I have used this system in two car...</td>\n",
       "      <td>1</td>\n",
       "      <td>My wife and I have used this system in two car...</td>\n",
       "      <td>-1</td>\n",
       "      <td>5.587868e-10</td>\n",
       "    </tr>\n",
       "    <tr>\n",
       "      <th>172090</th>\n",
       "      <td>Belkin WeMo Wi-Fi Baby Monitor for Apple iPhon...</td>\n",
       "      <td>I read so many reviews saying the Belkin WiFi ...</td>\n",
       "      <td>2</td>\n",
       "      <td>I read so many reviews saying the Belkin WiFi ...</td>\n",
       "      <td>-1</td>\n",
       "      <td>5.691484e-10</td>\n",
       "    </tr>\n",
       "    <tr>\n",
       "      <th>75994</th>\n",
       "      <td>Peg-Perego Tatamia High Chair, White Latte</td>\n",
       "      <td>I can see why there are so many good reviews o...</td>\n",
       "      <td>2</td>\n",
       "      <td>I can see why there are so many good reviews o...</td>\n",
       "      <td>-1</td>\n",
       "      <td>5.800051e-10</td>\n",
       "    </tr>\n",
       "    <tr>\n",
       "      <th>149987</th>\n",
       "      <td>NUK Cook-n-Blend Baby Food Maker</td>\n",
       "      <td>It thought this would be great. I did a lot of...</td>\n",
       "      <td>1</td>\n",
       "      <td>It thought this would be great I did a lot of ...</td>\n",
       "      <td>-1</td>\n",
       "      <td>6.175407e-10</td>\n",
       "    </tr>\n",
       "    <tr>\n",
       "      <th>154878</th>\n",
       "      <td>VTech Communications Safe &amp;amp; Sound Digital ...</td>\n",
       "      <td>First, the distance on these are no more than ...</td>\n",
       "      <td>1</td>\n",
       "      <td>First the distance on these are no more than 7...</td>\n",
       "      <td>-1</td>\n",
       "      <td>8.036934e-10</td>\n",
       "    </tr>\n",
       "    <tr>\n",
       "      <th>1116</th>\n",
       "      <td>Safety 1st Deluxe 4-in-1 Bath Station</td>\n",
       "      <td>This item is junk.  I originally chose it beca...</td>\n",
       "      <td>1</td>\n",
       "      <td>This item is junk  I originally chose it becau...</td>\n",
       "      <td>-1</td>\n",
       "      <td>1.076817e-09</td>\n",
       "    </tr>\n",
       "    <tr>\n",
       "      <th>31741</th>\n",
       "      <td>Regalo My Cot Portable Bed, Royal Blue</td>\n",
       "      <td>If I could give this product zero stars I woul...</td>\n",
       "      <td>1</td>\n",
       "      <td>If I could give this product zero stars I woul...</td>\n",
       "      <td>-1</td>\n",
       "      <td>1.591859e-09</td>\n",
       "    </tr>\n",
       "    <tr>\n",
       "      <th>83234</th>\n",
       "      <td>Thirsties Hemp Inserts 2 Pack, Small 6-18 Lbs</td>\n",
       "      <td>My Experience: Babykicks Inserts failure vs RA...</td>\n",
       "      <td>5</td>\n",
       "      <td>My Experience Babykicks Inserts failure vs RAV...</td>\n",
       "      <td>1</td>\n",
       "      <td>1.642593e-09</td>\n",
       "    </tr>\n",
       "  </tbody>\n",
       "</table>\n",
       "</div>"
      ],
      "text/plain": [
       "                                                     name  \\\n",
       "16042         Fisher-Price Ocean Wonders Aquarium Bouncer   \n",
       "120209  Levana Safe N'See Digital Video Baby Monitor w...   \n",
       "77072      Safety 1st Exchangeable Tip 3 in 1 Thermometer   \n",
       "48694   Adiri BPA Free Natural Nurser Ultimate Bottle ...   \n",
       "155287  VTech Communications Safe &amp; Sounds Full Co...   \n",
       "94560   The First Years True Choice P400 Premium Digit...   \n",
       "53207                 Safety 1st High-Def Digital Monitor   \n",
       "81332               Cloth Diaper Sprayer--styles may vary   \n",
       "10677                   Philips AVENT Newborn Starter Set   \n",
       "113995  Motorola Digital Video Baby Monitor with Room ...   \n",
       "59546              Ellaroo Mei Tai Baby Carrier - Hershey   \n",
       "9915         Cosco Alpha Omega Elite Convertible Car Seat   \n",
       "40079   Chicco Cortina KeyFit 30 Travel System in Adve...   \n",
       "172090  Belkin WeMo Wi-Fi Baby Monitor for Apple iPhon...   \n",
       "75994          Peg-Perego Tatamia High Chair, White Latte   \n",
       "149987                   NUK Cook-n-Blend Baby Food Maker   \n",
       "154878  VTech Communications Safe &amp; Sound Digital ...   \n",
       "1116                Safety 1st Deluxe 4-in-1 Bath Station   \n",
       "31741              Regalo My Cot Portable Bed, Royal Blue   \n",
       "83234       Thirsties Hemp Inserts 2 Pack, Small 6-18 Lbs   \n",
       "\n",
       "                                                   review  rating  \\\n",
       "16042   We have not had ANY luck with Fisher-Price pro...       2   \n",
       "120209  This is the first review I have ever written o...       1   \n",
       "77072   I thought it sounded great to have different t...       1   \n",
       "48694   I will try to write an objective review of the...       2   \n",
       "155287  This is my second video monitoring system, the...       1   \n",
       "94560   Note: we never installed batteries in these un...       1   \n",
       "53207   We bought this baby monitor to replace a diffe...       1   \n",
       "81332   I bought this sprayer out of desperation durin...       1   \n",
       "10677   It's 3am in the morning and needless to say, t...       1   \n",
       "113995  DO NOT BUY THIS BABY MONITOR!I purchased this ...       1   \n",
       "59546   This is basically an overpriced piece of fabri...       1   \n",
       "9915    I bought this car seat after both seeing  the ...       1   \n",
       "40079   My wife and I have used this system in two car...       1   \n",
       "172090  I read so many reviews saying the Belkin WiFi ...       2   \n",
       "75994   I can see why there are so many good reviews o...       2   \n",
       "149987  It thought this would be great. I did a lot of...       1   \n",
       "154878  First, the distance on these are no more than ...       1   \n",
       "1116    This item is junk.  I originally chose it beca...       1   \n",
       "31741   If I could give this product zero stars I woul...       1   \n",
       "83234   My Experience: Babykicks Inserts failure vs RA...       5   \n",
       "\n",
       "                                             review_clean  sentiment  \\\n",
       "16042   We have not had ANY luck with FisherPrice prod...         -1   \n",
       "120209  This is the first review I have ever written o...         -1   \n",
       "77072   I thought it sounded great to have different t...         -1   \n",
       "48694   I will try to write an objective review of the...         -1   \n",
       "155287  This is my second video monitoring system the ...         -1   \n",
       "94560   Note we never installed batteries in these uni...         -1   \n",
       "53207   We bought this baby monitor to replace a diffe...         -1   \n",
       "81332   I bought this sprayer out of desperation durin...         -1   \n",
       "10677   Its 3am in the morning and needless to say thi...         -1   \n",
       "113995  DO NOT BUY THIS BABY MONITORI purchased this m...         -1   \n",
       "59546   This is basically an overpriced piece of fabri...         -1   \n",
       "9915    I bought this car seat after both seeing  the ...         -1   \n",
       "40079   My wife and I have used this system in two car...         -1   \n",
       "172090  I read so many reviews saying the Belkin WiFi ...         -1   \n",
       "75994   I can see why there are so many good reviews o...         -1   \n",
       "149987  It thought this would be great I did a lot of ...         -1   \n",
       "154878  First the distance on these are no more than 7...         -1   \n",
       "1116    This item is junk  I originally chose it becau...         -1   \n",
       "31741   If I could give this product zero stars I woul...         -1   \n",
       "83234   My Experience Babykicks Inserts failure vs RAV...          1   \n",
       "\n",
       "              y_pred  \n",
       "16042   8.474423e-16  \n",
       "120209  1.594857e-15  \n",
       "77072   8.141167e-14  \n",
       "48694   9.830462e-14  \n",
       "155287  1.941793e-13  \n",
       "94560   3.324655e-13  \n",
       "53207   3.272253e-11  \n",
       "81332   3.329506e-11  \n",
       "10677   9.494597e-11  \n",
       "113995  9.585600e-11  \n",
       "59546   4.353072e-10  \n",
       "9915    4.385850e-10  \n",
       "40079   5.587868e-10  \n",
       "172090  5.691484e-10  \n",
       "75994   5.800051e-10  \n",
       "149987  6.175407e-10  \n",
       "154878  8.036934e-10  \n",
       "1116    1.076817e-09  \n",
       "31741   1.591859e-09  \n",
       "83234   1.642593e-09  "
      ]
     },
     "execution_count": 81,
     "metadata": {},
     "output_type": "execute_result"
    }
   ],
   "source": [
    "test_data.sort_values(by='y_pred', ascending=True).iloc[0:20]"
   ]
  },
  {
   "cell_type": "markdown",
   "metadata": {
    "collapsed": true
   },
   "source": [
    "**Quiz Question**: Which of the following products are represented in the 20 most negative reviews?  [multiple choice]"
   ]
  },
  {
   "cell_type": "markdown",
   "metadata": {},
   "source": [
    "## Compute accuracy of the classifier\n",
    "\n",
    "We will now evaluate the accuracy of the trained classifer. Recall that the accuracy is given by\n",
    "\n",
    "\n",
    "$$\n",
    "\\mbox{accuracy} = \\frac{\\mbox{# correctly classified examples}}{\\mbox{# total examples}}\n",
    "$$\n",
    "\n",
    "This can be computed as follows:\n",
    "\n",
    "* **Step 1:** Use the trained model to compute class predictions (**Hint:** Use the `predict` method)\n",
    "* **Step 2:** Count the number of data points when the predicted class labels match the ground truth labels (called `true_labels` below).\n",
    "* **Step 3:** Divide the total number of correct predictions by the total number of data points in the dataset.\n",
    "\n",
    "Complete the function below to compute the classification accuracy:"
   ]
  },
  {
   "cell_type": "code",
   "execution_count": 82,
   "metadata": {
    "collapsed": true,
    "scrolled": true
   },
   "outputs": [],
   "source": [
    "def get_classification_accuracy(model, data, true_labels):\n",
    "    # First get the predictions\n",
    "    ## YOUR CODE HERE\n",
    "    y_pred = model.predict(data)\n",
    "    \n",
    "    # Compute the number of correctly classified examples\n",
    "    ## YOUR CODE HERE\n",
    "    correctly_classified = [i for i, j in zip(y_pred, true_labels) if i == j]\n",
    "\n",
    "    # Then compute accuracy by dividing num_correct by total number of examples\n",
    "    ## YOUR CODE HERE\n",
    "    accuracy = len(correctly_classified) / len(true_labels)\n",
    "    \n",
    "    return accuracy"
   ]
  },
  {
   "cell_type": "markdown",
   "metadata": {},
   "source": [
    "Now, let's compute the classification accuracy of the **sentiment_model** on the **test_data**."
   ]
  },
  {
   "cell_type": "code",
   "execution_count": 84,
   "metadata": {
    "collapsed": false
   },
   "outputs": [
    {
     "data": {
      "text/plain": [
       "0.9322954163666907"
      ]
     },
     "execution_count": 84,
     "metadata": {},
     "output_type": "execute_result"
    }
   ],
   "source": [
    "get_classification_accuracy(sentiment_model, test_matrix, test_data['sentiment'])"
   ]
  },
  {
   "cell_type": "markdown",
   "metadata": {},
   "source": [
    "**Quiz Question**: What is the accuracy of the **sentiment_model** on the **test_data**? Round your answer to 2 decimal places (e.g. 0.76).\n",
    "\n",
    "**Quiz Question**: Does a higher accuracy value on the **training_data** always imply that the classifier is better?"
   ]
  },
  {
   "cell_type": "markdown",
   "metadata": {},
   "source": [
    "## Learn another classifier with fewer words\n",
    "\n",
    "There were a lot of words in the model we trained above. We will now train a simpler logistic regression model using only a subet of words that occur in the reviews. For this assignment, we selected a 20 words to work with. These are:"
   ]
  },
  {
   "cell_type": "code",
   "execution_count": 85,
   "metadata": {
    "collapsed": true
   },
   "outputs": [],
   "source": [
    "significant_words = ['love', 'great', 'easy', 'old', 'little', 'perfect', 'loves', \n",
    "      'well', 'able', 'car', 'broke', 'less', 'even', 'waste', 'disappointed', \n",
    "      'work', 'product', 'money', 'would', 'return']"
   ]
  },
  {
   "cell_type": "code",
   "execution_count": 86,
   "metadata": {
    "collapsed": false
   },
   "outputs": [
    {
     "data": {
      "text/plain": [
       "20"
      ]
     },
     "execution_count": 86,
     "metadata": {},
     "output_type": "execute_result"
    }
   ],
   "source": [
    "len(significant_words)"
   ]
  },
  {
   "cell_type": "markdown",
   "metadata": {},
   "source": [
    "For each review, we will use the **word_count** column and trim out all words that are **not** in the **significant_words** list above. We will use the [SArray dictionary trim by keys functionality]( https://dato.com/products/create/docs/generated/graphlab.SArray.dict_trim_by_keys.html). Note that we are performing this on both the training and test set."
   ]
  },
  {
   "cell_type": "code",
   "execution_count": 87,
   "metadata": {
    "collapsed": false
   },
   "outputs": [],
   "source": [
    "vectorizer_word_subset = CountVectorizer(vocabulary=significant_words) # limit to 20 words\n",
    "train_matrix_word_subset = vectorizer_word_subset.fit_transform(train_data['review_clean'])\n",
    "test_matrix_word_subset = vectorizer_word_subset.transform(test_data['review_clean'])"
   ]
  },
  {
   "cell_type": "markdown",
   "metadata": {},
   "source": [
    "Let's see what the first example of the dataset looks like:"
   ]
  },
  {
   "cell_type": "code",
   "execution_count": 89,
   "metadata": {
    "collapsed": false
   },
   "outputs": [
    {
     "data": {
      "text/plain": [
       "'it came early and was not disappointed. i love planet wise bags and now my wipe holder. it keps my osocozy wipes moist and does not leak. highly recommend it.'"
      ]
     },
     "execution_count": 89,
     "metadata": {},
     "output_type": "execute_result"
    }
   ],
   "source": [
    "train_data.iloc[0]['review']"
   ]
  },
  {
   "cell_type": "markdown",
   "metadata": {},
   "source": [
    "## Train a logistic regression model on a subset of data"
   ]
  },
  {
   "cell_type": "markdown",
   "metadata": {},
   "source": [
    "We will now build a classifier with **word_count_subset** as the feature and **sentiment** as the target. "
   ]
  },
  {
   "cell_type": "code",
   "execution_count": 91,
   "metadata": {
    "collapsed": false
   },
   "outputs": [
    {
     "data": {
      "text/plain": [
       "LogisticRegression(C=1.0, class_weight=None, dual=False, fit_intercept=True,\n",
       "          intercept_scaling=1, max_iter=100, multi_class='ovr', n_jobs=1,\n",
       "          penalty='l2', random_state=None, solver='liblinear', tol=0.0001,\n",
       "          verbose=0, warm_start=False)"
      ]
     },
     "execution_count": 91,
     "metadata": {},
     "output_type": "execute_result"
    }
   ],
   "source": [
    "simple_model = LogisticRegression().fit(train_matrix_word_subset, train_data['sentiment'])\n",
    "simple_model"
   ]
  },
  {
   "cell_type": "markdown",
   "metadata": {},
   "source": [
    "We can compute the classification accuracy using the `get_classification_accuracy` function you implemented earlier."
   ]
  },
  {
   "cell_type": "code",
   "execution_count": 92,
   "metadata": {
    "collapsed": false
   },
   "outputs": [
    {
     "data": {
      "text/plain": [
       "0.8693604511639069"
      ]
     },
     "execution_count": 92,
     "metadata": {},
     "output_type": "execute_result"
    }
   ],
   "source": [
    "get_classification_accuracy(simple_model, test_matrix_word_subset, test_data['sentiment'])"
   ]
  },
  {
   "cell_type": "markdown",
   "metadata": {},
   "source": [
    "Now, we will inspect the weights (coefficients) of the **simple_model**:"
   ]
  },
  {
   "cell_type": "code",
   "execution_count": 93,
   "metadata": {
    "collapsed": false
   },
   "outputs": [
    {
     "data": {
      "text/plain": [
       "array([[ 1.36368976,  0.94399959,  1.19253827,  0.08551278,  0.52018576,\n",
       "         1.50981248,  1.67307389,  0.50376046,  0.19090857,  0.05885467,\n",
       "        -1.65157634, -0.20956286, -0.51137963, -2.03369861, -2.34829822,\n",
       "        -0.62116877, -0.32055624, -0.89803074, -0.36216674, -2.10933109]])"
      ]
     },
     "execution_count": 93,
     "metadata": {},
     "output_type": "execute_result"
    }
   ],
   "source": [
    "simple_model.coef_"
   ]
  },
  {
   "cell_type": "markdown",
   "metadata": {},
   "source": [
    "Let's sort the coefficients (in descending order) by the **value** to obtain the coefficients with the most positive effect on the sentiment."
   ]
  },
  {
   "cell_type": "code",
   "execution_count": 96,
   "metadata": {
    "collapsed": false
   },
   "outputs": [
    {
     "name": "stdout",
     "output_type": "stream",
     "text": [
      "[('love', 1.363689759311526), ('great', 0.94399959057174765), ('easy', 1.1925382734894578), ('old', 0.085512779463135513), ('little', 0.52018576271814221), ('perfect', 1.5098124766924437), ('loves', 1.6730738925937161), ('well', 0.50376045776752887), ('able', 0.19090857206461223), ('car', 0.05885467115255881), ('broke', -1.6515763449651024), ('less', -0.2095628645345341), ('even', -0.51137963179878376), ('waste', -2.0336986139400515), ('disappointed', -2.3482982195022615), ('work', -0.62116877364143619), ('product', -0.32055623673465694), ('money', -0.89803073771460462), ('would', -0.36216674227404511), ('return', -2.1093310903184719)]\n",
      "[('loves', 1.6730738925937161), ('perfect', 1.5098124766924437), ('love', 1.363689759311526), ('easy', 1.1925382734894578), ('great', 0.94399959057174765), ('little', 0.52018576271814221), ('well', 0.50376045776752887), ('able', 0.19090857206461223), ('old', 0.085512779463135513), ('car', 0.05885467115255881), ('less', -0.2095628645345341), ('product', -0.32055623673465694), ('would', -0.36216674227404511), ('even', -0.51137963179878376), ('work', -0.62116877364143619), ('money', -0.89803073771460462), ('broke', -1.6515763449651024), ('waste', -2.0336986139400515), ('return', -2.1093310903184719), ('disappointed', -2.3482982195022615)]\n"
     ]
    }
   ],
   "source": [
    "word_coef = zip(significant_words, simple_model.coef_[0])\n",
    "print word_coef\n",
    "word_coef.sort(key = lambda t: t[1], reverse=True)\n",
    "print word_coef"
   ]
  },
  {
   "cell_type": "markdown",
   "metadata": {},
   "source": [
    "**Quiz Question**: Consider the coefficients of **simple_model**. There should be 21 of them, an intercept term + one for each word in **significant_words**. How many of the 20 coefficients (corresponding to the 20 **significant_words** and *excluding the intercept term*) are positive for the `simple_model`?"
   ]
  },
  {
   "cell_type": "code",
   "execution_count": 99,
   "metadata": {
    "collapsed": false
   },
   "outputs": [
    {
     "data": {
      "text/plain": [
       "10"
      ]
     },
     "execution_count": 99,
     "metadata": {},
     "output_type": "execute_result"
    }
   ],
   "source": [
    "sum(simple_model.coef_[0] >= 0)"
   ]
  },
  {
   "cell_type": "markdown",
   "metadata": {},
   "source": [
    "**Quiz Question**: Are the positive words in the **simple_model** (let us call them `positive_significant_words`) also positive words in the **sentiment_model**?"
   ]
  },
  {
   "cell_type": "code",
   "execution_count": 100,
   "metadata": {
    "collapsed": false
   },
   "outputs": [
    {
     "data": {
      "text/plain": [
       "['loves',\n",
       " 'perfect',\n",
       " 'love',\n",
       " 'easy',\n",
       " 'great',\n",
       " 'little',\n",
       " 'well',\n",
       " 'able',\n",
       " 'old',\n",
       " 'car']"
      ]
     },
     "execution_count": 100,
     "metadata": {},
     "output_type": "execute_result"
    }
   ],
   "source": [
    "positive_significant_words = [i for i, j in word_coef if j >0]\n",
    "positive_significant_words"
   ]
  },
  {
   "cell_type": "code",
   "execution_count": 103,
   "metadata": {
    "collapsed": false
   },
   "outputs": [
    {
     "data": {
      "text/plain": [
       "(121712,)"
      ]
     },
     "execution_count": 103,
     "metadata": {},
     "output_type": "execute_result"
    }
   ],
   "source": [
    "sentiment_model.coef_[0].shape"
   ]
  },
  {
   "cell_type": "markdown",
   "metadata": {},
   "source": [
    "# Comparing models"
   ]
  },
  {
   "cell_type": "markdown",
   "metadata": {},
   "source": [
    "We will now compare the accuracy of the **sentiment_model** and the **simple_model** using the `get_classification_accuracy` method you implemented above.\n",
    "\n",
    "First, compute the classification accuracy of the **sentiment_model** on the **train_data**:"
   ]
  },
  {
   "cell_type": "code",
   "execution_count": 104,
   "metadata": {
    "collapsed": false
   },
   "outputs": [
    {
     "data": {
      "text/plain": [
       "0.9685045271931403"
      ]
     },
     "execution_count": 104,
     "metadata": {},
     "output_type": "execute_result"
    }
   ],
   "source": [
    "get_classification_accuracy(sentiment_model, train_matrix, train_data['sentiment'])"
   ]
  },
  {
   "cell_type": "markdown",
   "metadata": {},
   "source": [
    "Now, compute the classification accuracy of the **simple_model** on the **train_data**:"
   ]
  },
  {
   "cell_type": "code",
   "execution_count": 106,
   "metadata": {
    "collapsed": false
   },
   "outputs": [
    {
     "data": {
      "text/plain": [
       "0.8668225700065959"
      ]
     },
     "execution_count": 106,
     "metadata": {},
     "output_type": "execute_result"
    }
   ],
   "source": [
    "get_classification_accuracy(simple_model, train_matrix_word_subset, train_data['sentiment'])"
   ]
  },
  {
   "cell_type": "markdown",
   "metadata": {},
   "source": [
    "**Quiz Question**: Which model (**sentiment_model** or **simple_model**) has higher accuracy on the TRAINING set?"
   ]
  },
  {
   "cell_type": "markdown",
   "metadata": {},
   "source": [
    "Now, we will repeat this excercise on the **test_data**. Start by computing the classification accuracy of the **sentiment_model** on the **test_data**:"
   ]
  },
  {
   "cell_type": "code",
   "execution_count": 107,
   "metadata": {
    "collapsed": false
   },
   "outputs": [
    {
     "data": {
      "text/plain": [
       "0.9322954163666907"
      ]
     },
     "execution_count": 107,
     "metadata": {},
     "output_type": "execute_result"
    }
   ],
   "source": [
    "get_classification_accuracy(sentiment_model, test_matrix, test_data['sentiment'])"
   ]
  },
  {
   "cell_type": "markdown",
   "metadata": {},
   "source": [
    "Next, we will compute the classification accuracy of the **simple_model** on the **test_data**:"
   ]
  },
  {
   "cell_type": "code",
   "execution_count": 108,
   "metadata": {
    "collapsed": false
   },
   "outputs": [
    {
     "data": {
      "text/plain": [
       "0.8693604511639069"
      ]
     },
     "execution_count": 108,
     "metadata": {},
     "output_type": "execute_result"
    }
   ],
   "source": [
    "get_classification_accuracy(simple_model, test_matrix_word_subset, test_data['sentiment'])"
   ]
  },
  {
   "cell_type": "markdown",
   "metadata": {},
   "source": [
    "**Quiz Question**: Which model (**sentiment_model** or **simple_model**) has higher accuracy on the TEST set?"
   ]
  },
  {
   "cell_type": "markdown",
   "metadata": {},
   "source": [
    "## Baseline: Majority class prediction\n",
    "\n",
    "It is quite common to use the **majority class classifier** as the a baseline (or reference) model for comparison with your classifier model. The majority classifier model predicts the majority class for all data points. At the very least, you should healthily beat the majority class classifier, otherwise, the model is (usually) pointless.\n",
    "\n",
    "What is the majority class in the **train_data**?"
   ]
  },
  {
   "cell_type": "code",
   "execution_count": 109,
   "metadata": {
    "collapsed": false
   },
   "outputs": [
    {
     "name": "stdout",
     "output_type": "stream",
     "text": [
      "112164\n",
      "21252\n"
     ]
    }
   ],
   "source": [
    "num_positive  = (train_data['sentiment'] == +1).sum()\n",
    "num_negative = (train_data['sentiment'] == -1).sum()\n",
    "print num_positive\n",
    "print num_negative"
   ]
  },
  {
   "cell_type": "code",
   "execution_count": 112,
   "metadata": {
    "collapsed": false
   },
   "outputs": [
    {
     "data": {
      "text/plain": [
       "1"
      ]
     },
     "execution_count": 112,
     "metadata": {},
     "output_type": "execute_result"
    }
   ],
   "source": [
    "majority_class = (1 if num_positive > num_negative else -1)\n",
    "majority_class"
   ]
  },
  {
   "cell_type": "markdown",
   "metadata": {},
   "source": [
    "Now compute the accuracy of the majority class classifier on **test_data**.\n",
    "\n",
    "**Quiz Question**: Enter the accuracy of the majority class classifier model on the **test_data**. Round your answer to two decimal places (e.g. 0.76)."
   ]
  },
  {
   "cell_type": "code",
   "execution_count": 113,
   "metadata": {
    "collapsed": false,
    "scrolled": true
   },
   "outputs": [
    {
     "data": {
      "text/plain": [
       "0.84278257739380846"
      ]
     },
     "execution_count": 113,
     "metadata": {},
     "output_type": "execute_result"
    }
   ],
   "source": [
    "sum(test_data['sentiment'] == majority_class) / test_data.shape[0]"
   ]
  },
  {
   "cell_type": "markdown",
   "metadata": {},
   "source": [
    "**Quiz Question**: Is the **sentiment_model** definitely better than the majority class classifier (the baseline)?"
   ]
  }
 ],
 "metadata": {
  "kernelspec": {
   "display_name": "Python 2",
   "language": "python",
   "name": "python2"
  },
  "language_info": {
   "codemirror_mode": {
    "name": "ipython",
    "version": 2
   },
   "file_extension": ".py",
   "mimetype": "text/x-python",
   "name": "python",
   "nbconvert_exporter": "python",
   "pygments_lexer": "ipython2",
   "version": "2.7.8"
  }
 },
 "nbformat": 4,
 "nbformat_minor": 0
}
